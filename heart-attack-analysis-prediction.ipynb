{
 "cells": [
  {
   "cell_type": "markdown",
   "id": "female-coordination",
   "metadata": {
    "papermill": {
     "duration": 0.037272,
     "end_time": "2021-04-21T16:16:51.970646",
     "exception": false,
     "start_time": "2021-04-21T16:16:51.933374",
     "status": "completed"
    },
    "tags": []
   },
   "source": [
    "# Heart Attack Analysis & Prediction Dataset\n",
    "## A dataset for heart attack classification"
   ]
  },
  {
   "cell_type": "markdown",
   "id": "random-racing",
   "metadata": {
    "papermill": {
     "duration": 0.033477,
     "end_time": "2021-04-21T16:16:52.038149",
     "exception": false,
     "start_time": "2021-04-21T16:16:52.004672",
     "status": "completed"
    },
    "tags": []
   },
   "source": [
    "### About this dataset\n",
    "* Age : Age of the patient\n",
    "* Sex : Sex of the patient\n",
    "* exang: exercise induced angina (1 = yes; 0 = no)\n",
    "* ca: number of major vessels (0-3)\n",
    "* cp : Chest Pain type chest pain type\n",
    "    * Value 0: typical angina\n",
    "    * Value 1: atypical angina\n",
    "    * Value 2: non-anginal pain\n",
    "    * Value 3: asymptomatic\n",
    "\n",
    "* trtbps : resting blood pressure (in mm Hg)\n",
    "* chol : cholestoral in mg/dl fetched via BMI sensor\n",
    "* fbs : (fasting blood sugar > 120 mg/dl) (1 = true; 0 = false)\n",
    "* rest_ecg : resting electrocardiographic results\n",
    "    * Value 0: normal\n",
    "    * Value 1: having ST-T wave abnormality (T wave inversions and/or ST elevation or depression of > 0.05 mV)\n",
    "    * Value 2: showing probable or definite left ventricular hypertrophy by Estes' criteria\n",
    "\n",
    "* thalach : maximum heart rate achieved\n",
    "* output : 0= less chance of heart attack 1= more chance of heart attack"
   ]
  },
  {
   "cell_type": "code",
   "execution_count": 1,
   "id": "medium-heater",
   "metadata": {
    "execution": {
     "iopub.execute_input": "2021-04-21T16:16:52.109475Z",
     "iopub.status.busy": "2021-04-21T16:16:52.108935Z",
     "iopub.status.idle": "2021-04-21T16:16:53.587147Z",
     "shell.execute_reply": "2021-04-21T16:16:53.586071Z"
    },
    "papermill": {
     "duration": 1.51541,
     "end_time": "2021-04-21T16:16:53.587314",
     "exception": false,
     "start_time": "2021-04-21T16:16:52.071904",
     "status": "completed"
    },
    "tags": []
   },
   "outputs": [],
   "source": [
    "# Import libraries \n",
    "import numpy as np\n",
    "import pandas as pd\n",
    "import seaborn as sns\n",
    "import matplotlib.pyplot as plt\n",
    "%matplotlib inline\n",
    "\n",
    "# Import models\n",
    "from sklearn.linear_model import LogisticRegression\n",
    "from sklearn.neighbors import KNeighborsClassifier\n",
    "from sklearn.ensemble import RandomForestClassifier\n",
    "\n",
    "# Model evalution\n",
    "from sklearn.model_selection import train_test_split, cross_val_score\n",
    "from sklearn.model_selection import RandomizedSearchCV, GridSearchCV\n",
    "from sklearn.metrics import confusion_matrix, classification_report\n",
    "from sklearn.metrics import precision_score, recall_score, f1_score\n",
    "from sklearn.metrics import plot_roc_curve"
   ]
  },
  {
   "cell_type": "markdown",
   "id": "efficient-academy",
   "metadata": {
    "papermill": {
     "duration": 0.033461,
     "end_time": "2021-04-21T16:16:53.655916",
     "exception": false,
     "start_time": "2021-04-21T16:16:53.622455",
     "status": "completed"
    },
    "tags": []
   },
   "source": [
    "# Load Data\n"
   ]
  },
  {
   "cell_type": "code",
   "execution_count": 2,
   "id": "forbidden-logan",
   "metadata": {
    "execution": {
     "iopub.execute_input": "2021-04-21T16:16:53.730386Z",
     "iopub.status.busy": "2021-04-21T16:16:53.729763Z",
     "iopub.status.idle": "2021-04-21T16:16:53.748231Z",
     "shell.execute_reply": "2021-04-21T16:16:53.748663Z"
    },
    "papermill": {
     "duration": 0.057365,
     "end_time": "2021-04-21T16:16:53.748867",
     "exception": false,
     "start_time": "2021-04-21T16:16:53.691502",
     "status": "completed"
    },
    "tags": []
   },
   "outputs": [],
   "source": [
    "data = pd.read_csv('/kaggle/input/heart-attack-analysis-prediction-dataset/heart.csv')\n",
    "\n",
    "# Deep Copy\n",
    "df = data.copy()"
   ]
  },
  {
   "cell_type": "markdown",
   "id": "ultimate-owner",
   "metadata": {
    "papermill": {
     "duration": 0.033774,
     "end_time": "2021-04-21T16:16:53.816737",
     "exception": false,
     "start_time": "2021-04-21T16:16:53.782963",
     "status": "completed"
    },
    "tags": []
   },
   "source": [
    "# Data Exploration"
   ]
  },
  {
   "cell_type": "code",
   "execution_count": 3,
   "id": "union-opposition",
   "metadata": {
    "execution": {
     "iopub.execute_input": "2021-04-21T16:16:53.897301Z",
     "iopub.status.busy": "2021-04-21T16:16:53.896666Z",
     "iopub.status.idle": "2021-04-21T16:16:53.917649Z",
     "shell.execute_reply": "2021-04-21T16:16:53.918148Z"
    },
    "papermill": {
     "duration": 0.067803,
     "end_time": "2021-04-21T16:16:53.918317",
     "exception": false,
     "start_time": "2021-04-21T16:16:53.850514",
     "status": "completed"
    },
    "tags": []
   },
   "outputs": [
    {
     "data": {
      "text/html": [
       "<div>\n",
       "<style scoped>\n",
       "    .dataframe tbody tr th:only-of-type {\n",
       "        vertical-align: middle;\n",
       "    }\n",
       "\n",
       "    .dataframe tbody tr th {\n",
       "        vertical-align: top;\n",
       "    }\n",
       "\n",
       "    .dataframe thead th {\n",
       "        text-align: right;\n",
       "    }\n",
       "</style>\n",
       "<table border=\"1\" class=\"dataframe\">\n",
       "  <thead>\n",
       "    <tr style=\"text-align: right;\">\n",
       "      <th></th>\n",
       "      <th>age</th>\n",
       "      <th>sex</th>\n",
       "      <th>cp</th>\n",
       "      <th>trtbps</th>\n",
       "      <th>chol</th>\n",
       "      <th>fbs</th>\n",
       "      <th>restecg</th>\n",
       "      <th>thalachh</th>\n",
       "      <th>exng</th>\n",
       "      <th>oldpeak</th>\n",
       "      <th>slp</th>\n",
       "      <th>caa</th>\n",
       "      <th>thall</th>\n",
       "      <th>output</th>\n",
       "    </tr>\n",
       "  </thead>\n",
       "  <tbody>\n",
       "    <tr>\n",
       "      <th>0</th>\n",
       "      <td>63</td>\n",
       "      <td>1</td>\n",
       "      <td>3</td>\n",
       "      <td>145</td>\n",
       "      <td>233</td>\n",
       "      <td>1</td>\n",
       "      <td>0</td>\n",
       "      <td>150</td>\n",
       "      <td>0</td>\n",
       "      <td>2.3</td>\n",
       "      <td>0</td>\n",
       "      <td>0</td>\n",
       "      <td>1</td>\n",
       "      <td>1</td>\n",
       "    </tr>\n",
       "    <tr>\n",
       "      <th>1</th>\n",
       "      <td>37</td>\n",
       "      <td>1</td>\n",
       "      <td>2</td>\n",
       "      <td>130</td>\n",
       "      <td>250</td>\n",
       "      <td>0</td>\n",
       "      <td>1</td>\n",
       "      <td>187</td>\n",
       "      <td>0</td>\n",
       "      <td>3.5</td>\n",
       "      <td>0</td>\n",
       "      <td>0</td>\n",
       "      <td>2</td>\n",
       "      <td>1</td>\n",
       "    </tr>\n",
       "    <tr>\n",
       "      <th>2</th>\n",
       "      <td>41</td>\n",
       "      <td>0</td>\n",
       "      <td>1</td>\n",
       "      <td>130</td>\n",
       "      <td>204</td>\n",
       "      <td>0</td>\n",
       "      <td>0</td>\n",
       "      <td>172</td>\n",
       "      <td>0</td>\n",
       "      <td>1.4</td>\n",
       "      <td>2</td>\n",
       "      <td>0</td>\n",
       "      <td>2</td>\n",
       "      <td>1</td>\n",
       "    </tr>\n",
       "    <tr>\n",
       "      <th>3</th>\n",
       "      <td>56</td>\n",
       "      <td>1</td>\n",
       "      <td>1</td>\n",
       "      <td>120</td>\n",
       "      <td>236</td>\n",
       "      <td>0</td>\n",
       "      <td>1</td>\n",
       "      <td>178</td>\n",
       "      <td>0</td>\n",
       "      <td>0.8</td>\n",
       "      <td>2</td>\n",
       "      <td>0</td>\n",
       "      <td>2</td>\n",
       "      <td>1</td>\n",
       "    </tr>\n",
       "    <tr>\n",
       "      <th>4</th>\n",
       "      <td>57</td>\n",
       "      <td>0</td>\n",
       "      <td>0</td>\n",
       "      <td>120</td>\n",
       "      <td>354</td>\n",
       "      <td>0</td>\n",
       "      <td>1</td>\n",
       "      <td>163</td>\n",
       "      <td>1</td>\n",
       "      <td>0.6</td>\n",
       "      <td>2</td>\n",
       "      <td>0</td>\n",
       "      <td>2</td>\n",
       "      <td>1</td>\n",
       "    </tr>\n",
       "  </tbody>\n",
       "</table>\n",
       "</div>"
      ],
      "text/plain": [
       "   age  sex  cp  trtbps  chol  fbs  restecg  thalachh  exng  oldpeak  slp  \\\n",
       "0   63    1   3     145   233    1        0       150     0      2.3    0   \n",
       "1   37    1   2     130   250    0        1       187     0      3.5    0   \n",
       "2   41    0   1     130   204    0        0       172     0      1.4    2   \n",
       "3   56    1   1     120   236    0        1       178     0      0.8    2   \n",
       "4   57    0   0     120   354    0        1       163     1      0.6    2   \n",
       "\n",
       "   caa  thall  output  \n",
       "0    0      1       1  \n",
       "1    0      2       1  \n",
       "2    0      2       1  \n",
       "3    0      2       1  \n",
       "4    0      2       1  "
      ]
     },
     "execution_count": 3,
     "metadata": {},
     "output_type": "execute_result"
    }
   ],
   "source": [
    "\n",
    "df.head()"
   ]
  },
  {
   "cell_type": "code",
   "execution_count": 4,
   "id": "current-sister",
   "metadata": {
    "execution": {
     "iopub.execute_input": "2021-04-21T16:16:54.000982Z",
     "iopub.status.busy": "2021-04-21T16:16:54.000257Z",
     "iopub.status.idle": "2021-04-21T16:16:54.013789Z",
     "shell.execute_reply": "2021-04-21T16:16:54.013279Z"
    },
    "papermill": {
     "duration": 0.0603,
     "end_time": "2021-04-21T16:16:54.013964",
     "exception": false,
     "start_time": "2021-04-21T16:16:53.953664",
     "status": "completed"
    },
    "tags": []
   },
   "outputs": [
    {
     "name": "stdout",
     "output_type": "stream",
     "text": [
      "<class 'pandas.core.frame.DataFrame'>\n",
      "RangeIndex: 303 entries, 0 to 302\n",
      "Data columns (total 14 columns):\n",
      " #   Column    Non-Null Count  Dtype  \n",
      "---  ------    --------------  -----  \n",
      " 0   age       303 non-null    int64  \n",
      " 1   sex       303 non-null    int64  \n",
      " 2   cp        303 non-null    int64  \n",
      " 3   trtbps    303 non-null    int64  \n",
      " 4   chol      303 non-null    int64  \n",
      " 5   fbs       303 non-null    int64  \n",
      " 6   restecg   303 non-null    int64  \n",
      " 7   thalachh  303 non-null    int64  \n",
      " 8   exng      303 non-null    int64  \n",
      " 9   oldpeak   303 non-null    float64\n",
      " 10  slp       303 non-null    int64  \n",
      " 11  caa       303 non-null    int64  \n",
      " 12  thall     303 non-null    int64  \n",
      " 13  output    303 non-null    int64  \n",
      "dtypes: float64(1), int64(13)\n",
      "memory usage: 33.3 KB\n"
     ]
    }
   ],
   "source": [
    "df.info()"
   ]
  },
  {
   "cell_type": "code",
   "execution_count": 5,
   "id": "revised-decrease",
   "metadata": {
    "execution": {
     "iopub.execute_input": "2021-04-21T16:16:54.087613Z",
     "iopub.status.busy": "2021-04-21T16:16:54.087010Z",
     "iopub.status.idle": "2021-04-21T16:16:54.093763Z",
     "shell.execute_reply": "2021-04-21T16:16:54.094405Z"
    },
    "papermill": {
     "duration": 0.045488,
     "end_time": "2021-04-21T16:16:54.094581",
     "exception": false,
     "start_time": "2021-04-21T16:16:54.049093",
     "status": "completed"
    },
    "tags": []
   },
   "outputs": [
    {
     "data": {
      "text/plain": [
       "age         0\n",
       "sex         0\n",
       "cp          0\n",
       "trtbps      0\n",
       "chol        0\n",
       "fbs         0\n",
       "restecg     0\n",
       "thalachh    0\n",
       "exng        0\n",
       "oldpeak     0\n",
       "slp         0\n",
       "caa         0\n",
       "thall       0\n",
       "output      0\n",
       "dtype: int64"
      ]
     },
     "execution_count": 5,
     "metadata": {},
     "output_type": "execute_result"
    }
   ],
   "source": [
    "df.isna().sum()"
   ]
  },
  {
   "cell_type": "code",
   "execution_count": 6,
   "id": "superb-compiler",
   "metadata": {
    "execution": {
     "iopub.execute_input": "2021-04-21T16:16:54.168961Z",
     "iopub.status.busy": "2021-04-21T16:16:54.168347Z",
     "iopub.status.idle": "2021-04-21T16:16:54.173419Z",
     "shell.execute_reply": "2021-04-21T16:16:54.173894Z"
    },
    "papermill": {
     "duration": 0.043848,
     "end_time": "2021-04-21T16:16:54.174070",
     "exception": false,
     "start_time": "2021-04-21T16:16:54.130222",
     "status": "completed"
    },
    "tags": []
   },
   "outputs": [
    {
     "data": {
      "text/plain": [
       "Index(['age', 'sex', 'cp', 'trtbps', 'chol', 'fbs', 'restecg', 'thalachh',\n",
       "       'exng', 'oldpeak', 'slp', 'caa', 'thall', 'output'],\n",
       "      dtype='object')"
      ]
     },
     "execution_count": 6,
     "metadata": {},
     "output_type": "execute_result"
    }
   ],
   "source": [
    "df.columns"
   ]
  },
  {
   "cell_type": "code",
   "execution_count": 7,
   "id": "subtle-consumption",
   "metadata": {
    "execution": {
     "iopub.execute_input": "2021-04-21T16:16:54.248579Z",
     "iopub.status.busy": "2021-04-21T16:16:54.247908Z",
     "iopub.status.idle": "2021-04-21T16:16:54.254592Z",
     "shell.execute_reply": "2021-04-21T16:16:54.254108Z"
    },
    "papermill": {
     "duration": 0.045016,
     "end_time": "2021-04-21T16:16:54.254717",
     "exception": false,
     "start_time": "2021-04-21T16:16:54.209701",
     "status": "completed"
    },
    "tags": []
   },
   "outputs": [
    {
     "data": {
      "text/plain": [
       "1    165\n",
       "0    138\n",
       "Name: output, dtype: int64"
      ]
     },
     "execution_count": 7,
     "metadata": {},
     "output_type": "execute_result"
    }
   ],
   "source": [
    "df.output.value_counts()"
   ]
  },
  {
   "cell_type": "markdown",
   "id": "silent-label",
   "metadata": {
    "papermill": {
     "duration": 0.035791,
     "end_time": "2021-04-21T16:16:54.326552",
     "exception": false,
     "start_time": "2021-04-21T16:16:54.290761",
     "status": "completed"
    },
    "tags": []
   },
   "source": [
    "## Heart Disease frequency according to Sex"
   ]
  },
  {
   "cell_type": "code",
   "execution_count": 8,
   "id": "advisory-leonard",
   "metadata": {
    "execution": {
     "iopub.execute_input": "2021-04-21T16:16:54.414230Z",
     "iopub.status.busy": "2021-04-21T16:16:54.413544Z",
     "iopub.status.idle": "2021-04-21T16:16:54.451619Z",
     "shell.execute_reply": "2021-04-21T16:16:54.452097Z"
    },
    "papermill": {
     "duration": 0.089618,
     "end_time": "2021-04-21T16:16:54.452279",
     "exception": false,
     "start_time": "2021-04-21T16:16:54.362661",
     "status": "completed"
    },
    "tags": []
   },
   "outputs": [
    {
     "data": {
      "text/html": [
       "<div>\n",
       "<style scoped>\n",
       "    .dataframe tbody tr th:only-of-type {\n",
       "        vertical-align: middle;\n",
       "    }\n",
       "\n",
       "    .dataframe tbody tr th {\n",
       "        vertical-align: top;\n",
       "    }\n",
       "\n",
       "    .dataframe thead th {\n",
       "        text-align: right;\n",
       "    }\n",
       "</style>\n",
       "<table border=\"1\" class=\"dataframe\">\n",
       "  <thead>\n",
       "    <tr style=\"text-align: right;\">\n",
       "      <th>output</th>\n",
       "      <th>0</th>\n",
       "      <th>1</th>\n",
       "    </tr>\n",
       "    <tr>\n",
       "      <th>sex</th>\n",
       "      <th></th>\n",
       "      <th></th>\n",
       "    </tr>\n",
       "  </thead>\n",
       "  <tbody>\n",
       "    <tr>\n",
       "      <th>0</th>\n",
       "      <td>24</td>\n",
       "      <td>72</td>\n",
       "    </tr>\n",
       "    <tr>\n",
       "      <th>1</th>\n",
       "      <td>114</td>\n",
       "      <td>93</td>\n",
       "    </tr>\n",
       "  </tbody>\n",
       "</table>\n",
       "</div>"
      ],
      "text/plain": [
       "output    0   1\n",
       "sex            \n",
       "0        24  72\n",
       "1       114  93"
      ]
     },
     "execution_count": 8,
     "metadata": {},
     "output_type": "execute_result"
    }
   ],
   "source": [
    "pd.crosstab(df.sex, df.output)"
   ]
  },
  {
   "cell_type": "code",
   "execution_count": 9,
   "id": "raising-copper",
   "metadata": {
    "execution": {
     "iopub.execute_input": "2021-04-21T16:16:54.534194Z",
     "iopub.status.busy": "2021-04-21T16:16:54.533489Z",
     "iopub.status.idle": "2021-04-21T16:16:54.746445Z",
     "shell.execute_reply": "2021-04-21T16:16:54.745723Z"
    },
    "papermill": {
     "duration": 0.257618,
     "end_time": "2021-04-21T16:16:54.746586",
     "exception": false,
     "start_time": "2021-04-21T16:16:54.488968",
     "status": "completed"
    },
    "tags": []
   },
   "outputs": [
    {
     "data": {
      "text/plain": [
       "Text(0.5, 0, '0 = Not Disease, 1 = Disease')"
      ]
     },
     "execution_count": 9,
     "metadata": {},
     "output_type": "execute_result"
    },
    {
     "data": {
      "image/png": "[encoded data removed]",
      "text/plain": [
       "<Figure size 720x432 with 1 Axes>"
      ]
     },
     "metadata": {
      "needs_background": "light"
     },
     "output_type": "display_data"
    }
   ],
   "source": [
    "pd.crosstab(df.sex, df.output).plot(kind='bar', figsize=(10, 6), color=['lightblue', 'salmon'])\n",
    "\n",
    "plt.title('Heart Disease frequency for Sex')\n",
    "plt.ylabel('Frequency')\n",
    "plt.xticks(rotation=0)\n",
    "plt.legend(['Female', 'Male'])\n",
    "plt.xlabel('0 = Not Disease, 1 = Disease')"
   ]
  },
  {
   "cell_type": "markdown",
   "id": "solar-marble",
   "metadata": {
    "papermill": {
     "duration": 0.037424,
     "end_time": "2021-04-21T16:16:54.822100",
     "exception": false,
     "start_time": "2021-04-21T16:16:54.784676",
     "status": "completed"
    },
    "tags": []
   },
   "source": [
    "## Age vs Max Heart Rate for Heart Disease"
   ]
  },
  {
   "cell_type": "code",
   "execution_count": 10,
   "id": "heated-spray",
   "metadata": {
    "execution": {
     "iopub.execute_input": "2021-04-21T16:16:54.933552Z",
     "iopub.status.busy": "2021-04-21T16:16:54.931436Z",
     "iopub.status.idle": "2021-04-21T16:16:55.161626Z",
     "shell.execute_reply": "2021-04-21T16:16:55.162123Z"
    },
    "papermill": {
     "duration": 0.302704,
     "end_time": "2021-04-21T16:16:55.162304",
     "exception": false,
     "start_time": "2021-04-21T16:16:54.859600",
     "status": "completed"
    },
    "tags": []
   },
   "outputs": [
    {
     "data": {
      "text/plain": [
       "<matplotlib.legend.Legend at 0x7f87e49e49d0>"
      ]
     },
     "execution_count": 10,
     "metadata": {},
     "output_type": "execute_result"
    },
    {
     "data": {
      "image/png": "[encoded data removed]",
      "text/plain": [
       "<Figure size 720x504 with 1 Axes>"
      ]
     },
     "metadata": {
      "needs_background": "light"
     },
     "output_type": "display_data"
    }
   ],
   "source": [
    "plt.figure(figsize=(10, 7))\n",
    "sns.scatterplot(x=df.age, y=df.thalachh, hue=df.output, alpha=0.5)\n",
    "plt.title('Heart Disease Age vs Max Heart Rate')\n",
    "plt.ylabel('Max Heart Rate')\n",
    "plt.xlabel('Age')\n",
    "plt.legend(['Not disease', 'Disease'])"
   ]
  },
  {
   "cell_type": "markdown",
   "id": "independent-concert",
   "metadata": {
    "papermill": {
     "duration": 0.039471,
     "end_time": "2021-04-21T16:16:55.265007",
     "exception": false,
     "start_time": "2021-04-21T16:16:55.225536",
     "status": "completed"
    },
    "tags": []
   },
   "source": [
    "## Heart Desease Frequency per Chest Pain Type\n",
    "\n",
    "* cp : Chest Pain type chest pain type\n",
    "    * Value 0: typical angina\n",
    "    * Value 1: atypical angina\n",
    "    * Value 2: non-anginal pain\n",
    "    * Value 3: asymptomatic"
   ]
  },
  {
   "cell_type": "code",
   "execution_count": 11,
   "id": "accurate-there",
   "metadata": {
    "execution": {
     "iopub.execute_input": "2021-04-21T16:16:55.376333Z",
     "iopub.status.busy": "2021-04-21T16:16:55.366137Z",
     "iopub.status.idle": "2021-04-21T16:16:55.544406Z",
     "shell.execute_reply": "2021-04-21T16:16:55.544911Z"
    },
    "papermill": {
     "duration": 0.239718,
     "end_time": "2021-04-21T16:16:55.545089",
     "exception": false,
     "start_time": "2021-04-21T16:16:55.305371",
     "status": "completed"
    },
    "tags": []
   },
   "outputs": [
    {
     "data": {
      "text/plain": [
       "(array([0, 1, 2, 3]),\n",
       " [Text(0, 0, '0'), Text(1, 0, '1'), Text(2, 0, '2'), Text(3, 0, '3')])"
      ]
     },
     "execution_count": 11,
     "metadata": {},
     "output_type": "execute_result"
    },
    {
     "data": {
      "image/png": "[encoded data removed]",
      "text/plain": [
       "<Figure size 720x576 with 1 Axes>"
      ]
     },
     "metadata": {
      "needs_background": "light"
     },
     "output_type": "display_data"
    }
   ],
   "source": [
    "pd.crosstab(df.cp, df.output).plot(kind='bar', figsize=(10,8), color=['lightblue', 'salmon'])\n",
    "plt.ylabel('Frequency')\n",
    "plt.xlabel('Chest Pain Type')\n",
    "plt.title('Heart Disease Chest Pain Frequency')\n",
    "plt.legend(['Note Disease', 'Disease'])\n",
    "plt.xticks(rotation=0)"
   ]
  },
  {
   "cell_type": "code",
   "execution_count": 12,
   "id": "arctic-financing",
   "metadata": {
    "execution": {
     "iopub.execute_input": "2021-04-21T16:16:55.631707Z",
     "iopub.status.busy": "2021-04-21T16:16:55.630838Z",
     "iopub.status.idle": "2021-04-21T16:16:55.678603Z",
     "shell.execute_reply": "2021-04-21T16:16:55.678079Z"
    },
    "papermill": {
     "duration": 0.092369,
     "end_time": "2021-04-21T16:16:55.678737",
     "exception": false,
     "start_time": "2021-04-21T16:16:55.586368",
     "status": "completed"
    },
    "tags": []
   },
   "outputs": [
    {
     "data": {
      "text/html": [
       "<div>\n",
       "<style scoped>\n",
       "    .dataframe tbody tr th:only-of-type {\n",
       "        vertical-align: middle;\n",
       "    }\n",
       "\n",
       "    .dataframe tbody tr th {\n",
       "        vertical-align: top;\n",
       "    }\n",
       "\n",
       "    .dataframe thead th {\n",
       "        text-align: right;\n",
       "    }\n",
       "</style>\n",
       "<table border=\"1\" class=\"dataframe\">\n",
       "  <thead>\n",
       "    <tr style=\"text-align: right;\">\n",
       "      <th></th>\n",
       "      <th>age</th>\n",
       "      <th>sex</th>\n",
       "      <th>cp</th>\n",
       "      <th>trtbps</th>\n",
       "      <th>chol</th>\n",
       "      <th>fbs</th>\n",
       "      <th>restecg</th>\n",
       "      <th>thalachh</th>\n",
       "      <th>exng</th>\n",
       "      <th>oldpeak</th>\n",
       "      <th>slp</th>\n",
       "      <th>caa</th>\n",
       "      <th>thall</th>\n",
       "      <th>output</th>\n",
       "    </tr>\n",
       "  </thead>\n",
       "  <tbody>\n",
       "    <tr>\n",
       "      <th>count</th>\n",
       "      <td>303.000000</td>\n",
       "      <td>303.000000</td>\n",
       "      <td>303.000000</td>\n",
       "      <td>303.000000</td>\n",
       "      <td>303.000000</td>\n",
       "      <td>303.000000</td>\n",
       "      <td>303.000000</td>\n",
       "      <td>303.000000</td>\n",
       "      <td>303.000000</td>\n",
       "      <td>303.000000</td>\n",
       "      <td>303.000000</td>\n",
       "      <td>303.000000</td>\n",
       "      <td>303.000000</td>\n",
       "      <td>303.000000</td>\n",
       "    </tr>\n",
       "    <tr>\n",
       "      <th>mean</th>\n",
       "      <td>54.366337</td>\n",
       "      <td>0.683168</td>\n",
       "      <td>0.966997</td>\n",
       "      <td>131.623762</td>\n",
       "      <td>246.264026</td>\n",
       "      <td>0.148515</td>\n",
       "      <td>0.528053</td>\n",
       "      <td>149.646865</td>\n",
       "      <td>0.326733</td>\n",
       "      <td>1.039604</td>\n",
       "      <td>1.399340</td>\n",
       "      <td>0.729373</td>\n",
       "      <td>2.313531</td>\n",
       "      <td>0.544554</td>\n",
       "    </tr>\n",
       "    <tr>\n",
       "      <th>std</th>\n",
       "      <td>9.082101</td>\n",
       "      <td>0.466011</td>\n",
       "      <td>1.032052</td>\n",
       "      <td>17.538143</td>\n",
       "      <td>51.830751</td>\n",
       "      <td>0.356198</td>\n",
       "      <td>0.525860</td>\n",
       "      <td>22.905161</td>\n",
       "      <td>0.469794</td>\n",
       "      <td>1.161075</td>\n",
       "      <td>0.616226</td>\n",
       "      <td>1.022606</td>\n",
       "      <td>0.612277</td>\n",
       "      <td>0.498835</td>\n",
       "    </tr>\n",
       "    <tr>\n",
       "      <th>min</th>\n",
       "      <td>29.000000</td>\n",
       "      <td>0.000000</td>\n",
       "      <td>0.000000</td>\n",
       "      <td>94.000000</td>\n",
       "      <td>126.000000</td>\n",
       "      <td>0.000000</td>\n",
       "      <td>0.000000</td>\n",
       "      <td>71.000000</td>\n",
       "      <td>0.000000</td>\n",
       "      <td>0.000000</td>\n",
       "      <td>0.000000</td>\n",
       "      <td>0.000000</td>\n",
       "      <td>0.000000</td>\n",
       "      <td>0.000000</td>\n",
       "    </tr>\n",
       "    <tr>\n",
       "      <th>25%</th>\n",
       "      <td>47.500000</td>\n",
       "      <td>0.000000</td>\n",
       "      <td>0.000000</td>\n",
       "      <td>120.000000</td>\n",
       "      <td>211.000000</td>\n",
       "      <td>0.000000</td>\n",
       "      <td>0.000000</td>\n",
       "      <td>133.500000</td>\n",
       "      <td>0.000000</td>\n",
       "      <td>0.000000</td>\n",
       "      <td>1.000000</td>\n",
       "      <td>0.000000</td>\n",
       "      <td>2.000000</td>\n",
       "      <td>0.000000</td>\n",
       "    </tr>\n",
       "    <tr>\n",
       "      <th>50%</th>\n",
       "      <td>55.000000</td>\n",
       "      <td>1.000000</td>\n",
       "      <td>1.000000</td>\n",
       "      <td>130.000000</td>\n",
       "      <td>240.000000</td>\n",
       "      <td>0.000000</td>\n",
       "      <td>1.000000</td>\n",
       "      <td>153.000000</td>\n",
       "      <td>0.000000</td>\n",
       "      <td>0.800000</td>\n",
       "      <td>1.000000</td>\n",
       "      <td>0.000000</td>\n",
       "      <td>2.000000</td>\n",
       "      <td>1.000000</td>\n",
       "    </tr>\n",
       "    <tr>\n",
       "      <th>75%</th>\n",
       "      <td>61.000000</td>\n",
       "      <td>1.000000</td>\n",
       "      <td>2.000000</td>\n",
       "      <td>140.000000</td>\n",
       "      <td>274.500000</td>\n",
       "      <td>0.000000</td>\n",
       "      <td>1.000000</td>\n",
       "      <td>166.000000</td>\n",
       "      <td>1.000000</td>\n",
       "      <td>1.600000</td>\n",
       "      <td>2.000000</td>\n",
       "      <td>1.000000</td>\n",
       "      <td>3.000000</td>\n",
       "      <td>1.000000</td>\n",
       "    </tr>\n",
       "    <tr>\n",
       "      <th>max</th>\n",
       "      <td>77.000000</td>\n",
       "      <td>1.000000</td>\n",
       "      <td>3.000000</td>\n",
       "      <td>200.000000</td>\n",
       "      <td>564.000000</td>\n",
       "      <td>1.000000</td>\n",
       "      <td>2.000000</td>\n",
       "      <td>202.000000</td>\n",
       "      <td>1.000000</td>\n",
       "      <td>6.200000</td>\n",
       "      <td>2.000000</td>\n",
       "      <td>4.000000</td>\n",
       "      <td>3.000000</td>\n",
       "      <td>1.000000</td>\n",
       "    </tr>\n",
       "  </tbody>\n",
       "</table>\n",
       "</div>"
      ],
      "text/plain": [
       "              age         sex          cp      trtbps        chol         fbs  \\\n",
       "count  303.000000  303.000000  303.000000  303.000000  303.000000  303.000000   \n",
       "mean    54.366337    0.683168    0.966997  131.623762  246.264026    0.148515   \n",
       "std      9.082101    0.466011    1.032052   17.538143   51.830751    0.356198   \n",
       "min     29.000000    0.000000    0.000000   94.000000  126.000000    0.000000   \n",
       "25%     47.500000    0.000000    0.000000  120.000000  211.000000    0.000000   \n",
       "50%     55.000000    1.000000    1.000000  130.000000  240.000000    0.000000   \n",
       "75%     61.000000    1.000000    2.000000  140.000000  274.500000    0.000000   \n",
       "max     77.000000    1.000000    3.000000  200.000000  564.000000    1.000000   \n",
       "\n",
       "          restecg    thalachh        exng     oldpeak         slp         caa  \\\n",
       "count  303.000000  303.000000  303.000000  303.000000  303.000000  303.000000   \n",
       "mean     0.528053  149.646865    0.326733    1.039604    1.399340    0.729373   \n",
       "std      0.525860   22.905161    0.469794    1.161075    0.616226    1.022606   \n",
       "min      0.000000   71.000000    0.000000    0.000000    0.000000    0.000000   \n",
       "25%      0.000000  133.500000    0.000000    0.000000    1.000000    0.000000   \n",
       "50%      1.000000  153.000000    0.000000    0.800000    1.000000    0.000000   \n",
       "75%      1.000000  166.000000    1.000000    1.600000    2.000000    1.000000   \n",
       "max      2.000000  202.000000    1.000000    6.200000    2.000000    4.000000   \n",
       "\n",
       "            thall      output  \n",
       "count  303.000000  303.000000  \n",
       "mean     2.313531    0.544554  \n",
       "std      0.612277    0.498835  \n",
       "min      0.000000    0.000000  \n",
       "25%      2.000000    0.000000  \n",
       "50%      2.000000    1.000000  \n",
       "75%      3.000000    1.000000  \n",
       "max      3.000000    1.000000  "
      ]
     },
     "execution_count": 12,
     "metadata": {},
     "output_type": "execute_result"
    }
   ],
   "source": [
    "df.describe()"
   ]
  },
  {
   "cell_type": "code",
   "execution_count": 13,
   "id": "broadband-prague",
   "metadata": {
    "execution": {
     "iopub.execute_input": "2021-04-21T16:16:55.768927Z",
     "iopub.status.busy": "2021-04-21T16:16:55.768264Z",
     "iopub.status.idle": "2021-04-21T16:16:55.797772Z",
     "shell.execute_reply": "2021-04-21T16:16:55.798292Z"
    },
    "papermill": {
     "duration": 0.077231,
     "end_time": "2021-04-21T16:16:55.798466",
     "exception": false,
     "start_time": "2021-04-21T16:16:55.721235",
     "status": "completed"
    },
    "tags": []
   },
   "outputs": [
    {
     "data": {
      "text/html": [
       "<div>\n",
       "<style scoped>\n",
       "    .dataframe tbody tr th:only-of-type {\n",
       "        vertical-align: middle;\n",
       "    }\n",
       "\n",
       "    .dataframe tbody tr th {\n",
       "        vertical-align: top;\n",
       "    }\n",
       "\n",
       "    .dataframe thead th {\n",
       "        text-align: right;\n",
       "    }\n",
       "</style>\n",
       "<table border=\"1\" class=\"dataframe\">\n",
       "  <thead>\n",
       "    <tr style=\"text-align: right;\">\n",
       "      <th></th>\n",
       "      <th>age</th>\n",
       "      <th>sex</th>\n",
       "      <th>cp</th>\n",
       "      <th>trtbps</th>\n",
       "      <th>chol</th>\n",
       "      <th>fbs</th>\n",
       "      <th>restecg</th>\n",
       "      <th>thalachh</th>\n",
       "      <th>exng</th>\n",
       "      <th>oldpeak</th>\n",
       "      <th>slp</th>\n",
       "      <th>caa</th>\n",
       "      <th>thall</th>\n",
       "      <th>output</th>\n",
       "    </tr>\n",
       "  </thead>\n",
       "  <tbody>\n",
       "    <tr>\n",
       "      <th>age</th>\n",
       "      <td>1.000000</td>\n",
       "      <td>-0.098447</td>\n",
       "      <td>-0.068653</td>\n",
       "      <td>0.279351</td>\n",
       "      <td>0.213678</td>\n",
       "      <td>0.121308</td>\n",
       "      <td>-0.116211</td>\n",
       "      <td>-0.398522</td>\n",
       "      <td>0.096801</td>\n",
       "      <td>0.210013</td>\n",
       "      <td>-0.168814</td>\n",
       "      <td>0.276326</td>\n",
       "      <td>0.068001</td>\n",
       "      <td>-0.225439</td>\n",
       "    </tr>\n",
       "    <tr>\n",
       "      <th>sex</th>\n",
       "      <td>-0.098447</td>\n",
       "      <td>1.000000</td>\n",
       "      <td>-0.049353</td>\n",
       "      <td>-0.056769</td>\n",
       "      <td>-0.197912</td>\n",
       "      <td>0.045032</td>\n",
       "      <td>-0.058196</td>\n",
       "      <td>-0.044020</td>\n",
       "      <td>0.141664</td>\n",
       "      <td>0.096093</td>\n",
       "      <td>-0.030711</td>\n",
       "      <td>0.118261</td>\n",
       "      <td>0.210041</td>\n",
       "      <td>-0.280937</td>\n",
       "    </tr>\n",
       "    <tr>\n",
       "      <th>cp</th>\n",
       "      <td>-0.068653</td>\n",
       "      <td>-0.049353</td>\n",
       "      <td>1.000000</td>\n",
       "      <td>0.047608</td>\n",
       "      <td>-0.076904</td>\n",
       "      <td>0.094444</td>\n",
       "      <td>0.044421</td>\n",
       "      <td>0.295762</td>\n",
       "      <td>-0.394280</td>\n",
       "      <td>-0.149230</td>\n",
       "      <td>0.119717</td>\n",
       "      <td>-0.181053</td>\n",
       "      <td>-0.161736</td>\n",
       "      <td>0.433798</td>\n",
       "    </tr>\n",
       "    <tr>\n",
       "      <th>trtbps</th>\n",
       "      <td>0.279351</td>\n",
       "      <td>-0.056769</td>\n",
       "      <td>0.047608</td>\n",
       "      <td>1.000000</td>\n",
       "      <td>0.123174</td>\n",
       "      <td>0.177531</td>\n",
       "      <td>-0.114103</td>\n",
       "      <td>-0.046698</td>\n",
       "      <td>0.067616</td>\n",
       "      <td>0.193216</td>\n",
       "      <td>-0.121475</td>\n",
       "      <td>0.101389</td>\n",
       "      <td>0.062210</td>\n",
       "      <td>-0.144931</td>\n",
       "    </tr>\n",
       "    <tr>\n",
       "      <th>chol</th>\n",
       "      <td>0.213678</td>\n",
       "      <td>-0.197912</td>\n",
       "      <td>-0.076904</td>\n",
       "      <td>0.123174</td>\n",
       "      <td>1.000000</td>\n",
       "      <td>0.013294</td>\n",
       "      <td>-0.151040</td>\n",
       "      <td>-0.009940</td>\n",
       "      <td>0.067023</td>\n",
       "      <td>0.053952</td>\n",
       "      <td>-0.004038</td>\n",
       "      <td>0.070511</td>\n",
       "      <td>0.098803</td>\n",
       "      <td>-0.085239</td>\n",
       "    </tr>\n",
       "    <tr>\n",
       "      <th>fbs</th>\n",
       "      <td>0.121308</td>\n",
       "      <td>0.045032</td>\n",
       "      <td>0.094444</td>\n",
       "      <td>0.177531</td>\n",
       "      <td>0.013294</td>\n",
       "      <td>1.000000</td>\n",
       "      <td>-0.084189</td>\n",
       "      <td>-0.008567</td>\n",
       "      <td>0.025665</td>\n",
       "      <td>0.005747</td>\n",
       "      <td>-0.059894</td>\n",
       "      <td>0.137979</td>\n",
       "      <td>-0.032019</td>\n",
       "      <td>-0.028046</td>\n",
       "    </tr>\n",
       "    <tr>\n",
       "      <th>restecg</th>\n",
       "      <td>-0.116211</td>\n",
       "      <td>-0.058196</td>\n",
       "      <td>0.044421</td>\n",
       "      <td>-0.114103</td>\n",
       "      <td>-0.151040</td>\n",
       "      <td>-0.084189</td>\n",
       "      <td>1.000000</td>\n",
       "      <td>0.044123</td>\n",
       "      <td>-0.070733</td>\n",
       "      <td>-0.058770</td>\n",
       "      <td>0.093045</td>\n",
       "      <td>-0.072042</td>\n",
       "      <td>-0.011981</td>\n",
       "      <td>0.137230</td>\n",
       "    </tr>\n",
       "    <tr>\n",
       "      <th>thalachh</th>\n",
       "      <td>-0.398522</td>\n",
       "      <td>-0.044020</td>\n",
       "      <td>0.295762</td>\n",
       "      <td>-0.046698</td>\n",
       "      <td>-0.009940</td>\n",
       "      <td>-0.008567</td>\n",
       "      <td>0.044123</td>\n",
       "      <td>1.000000</td>\n",
       "      <td>-0.378812</td>\n",
       "      <td>-0.344187</td>\n",
       "      <td>0.386784</td>\n",
       "      <td>-0.213177</td>\n",
       "      <td>-0.096439</td>\n",
       "      <td>0.421741</td>\n",
       "    </tr>\n",
       "    <tr>\n",
       "      <th>exng</th>\n",
       "      <td>0.096801</td>\n",
       "      <td>0.141664</td>\n",
       "      <td>-0.394280</td>\n",
       "      <td>0.067616</td>\n",
       "      <td>0.067023</td>\n",
       "      <td>0.025665</td>\n",
       "      <td>-0.070733</td>\n",
       "      <td>-0.378812</td>\n",
       "      <td>1.000000</td>\n",
       "      <td>0.288223</td>\n",
       "      <td>-0.257748</td>\n",
       "      <td>0.115739</td>\n",
       "      <td>0.206754</td>\n",
       "      <td>-0.436757</td>\n",
       "    </tr>\n",
       "    <tr>\n",
       "      <th>oldpeak</th>\n",
       "      <td>0.210013</td>\n",
       "      <td>0.096093</td>\n",
       "      <td>-0.149230</td>\n",
       "      <td>0.193216</td>\n",
       "      <td>0.053952</td>\n",
       "      <td>0.005747</td>\n",
       "      <td>-0.058770</td>\n",
       "      <td>-0.344187</td>\n",
       "      <td>0.288223</td>\n",
       "      <td>1.000000</td>\n",
       "      <td>-0.577537</td>\n",
       "      <td>0.222682</td>\n",
       "      <td>0.210244</td>\n",
       "      <td>-0.430696</td>\n",
       "    </tr>\n",
       "    <tr>\n",
       "      <th>slp</th>\n",
       "      <td>-0.168814</td>\n",
       "      <td>-0.030711</td>\n",
       "      <td>0.119717</td>\n",
       "      <td>-0.121475</td>\n",
       "      <td>-0.004038</td>\n",
       "      <td>-0.059894</td>\n",
       "      <td>0.093045</td>\n",
       "      <td>0.386784</td>\n",
       "      <td>-0.257748</td>\n",
       "      <td>-0.577537</td>\n",
       "      <td>1.000000</td>\n",
       "      <td>-0.080155</td>\n",
       "      <td>-0.104764</td>\n",
       "      <td>0.345877</td>\n",
       "    </tr>\n",
       "    <tr>\n",
       "      <th>caa</th>\n",
       "      <td>0.276326</td>\n",
       "      <td>0.118261</td>\n",
       "      <td>-0.181053</td>\n",
       "      <td>0.101389</td>\n",
       "      <td>0.070511</td>\n",
       "      <td>0.137979</td>\n",
       "      <td>-0.072042</td>\n",
       "      <td>-0.213177</td>\n",
       "      <td>0.115739</td>\n",
       "      <td>0.222682</td>\n",
       "      <td>-0.080155</td>\n",
       "      <td>1.000000</td>\n",
       "      <td>0.151832</td>\n",
       "      <td>-0.391724</td>\n",
       "    </tr>\n",
       "    <tr>\n",
       "      <th>thall</th>\n",
       "      <td>0.068001</td>\n",
       "      <td>0.210041</td>\n",
       "      <td>-0.161736</td>\n",
       "      <td>0.062210</td>\n",
       "      <td>0.098803</td>\n",
       "      <td>-0.032019</td>\n",
       "      <td>-0.011981</td>\n",
       "      <td>-0.096439</td>\n",
       "      <td>0.206754</td>\n",
       "      <td>0.210244</td>\n",
       "      <td>-0.104764</td>\n",
       "      <td>0.151832</td>\n",
       "      <td>1.000000</td>\n",
       "      <td>-0.344029</td>\n",
       "    </tr>\n",
       "    <tr>\n",
       "      <th>output</th>\n",
       "      <td>-0.225439</td>\n",
       "      <td>-0.280937</td>\n",
       "      <td>0.433798</td>\n",
       "      <td>-0.144931</td>\n",
       "      <td>-0.085239</td>\n",
       "      <td>-0.028046</td>\n",
       "      <td>0.137230</td>\n",
       "      <td>0.421741</td>\n",
       "      <td>-0.436757</td>\n",
       "      <td>-0.430696</td>\n",
       "      <td>0.345877</td>\n",
       "      <td>-0.391724</td>\n",
       "      <td>-0.344029</td>\n",
       "      <td>1.000000</td>\n",
       "    </tr>\n",
       "  </tbody>\n",
       "</table>\n",
       "</div>"
      ],
      "text/plain": [
       "               age       sex        cp    trtbps      chol       fbs  \\\n",
       "age       1.000000 -0.098447 -0.068653  0.279351  0.213678  0.121308   \n",
       "sex      -0.098447  1.000000 -0.049353 -0.056769 -0.197912  0.045032   \n",
       "cp       -0.068653 -0.049353  1.000000  0.047608 -0.076904  0.094444   \n",
       "trtbps    0.279351 -0.056769  0.047608  1.000000  0.123174  0.177531   \n",
       "chol      0.213678 -0.197912 -0.076904  0.123174  1.000000  0.013294   \n",
       "fbs       0.121308  0.045032  0.094444  0.177531  0.013294  1.000000   \n",
       "restecg  -0.116211 -0.058196  0.044421 -0.114103 -0.151040 -0.084189   \n",
       "thalachh -0.398522 -0.044020  0.295762 -0.046698 -0.009940 -0.008567   \n",
       "exng      0.096801  0.141664 -0.394280  0.067616  0.067023  0.025665   \n",
       "oldpeak   0.210013  0.096093 -0.149230  0.193216  0.053952  0.005747   \n",
       "slp      -0.168814 -0.030711  0.119717 -0.121475 -0.004038 -0.059894   \n",
       "caa       0.276326  0.118261 -0.181053  0.101389  0.070511  0.137979   \n",
       "thall     0.068001  0.210041 -0.161736  0.062210  0.098803 -0.032019   \n",
       "output   -0.225439 -0.280937  0.433798 -0.144931 -0.085239 -0.028046   \n",
       "\n",
       "           restecg  thalachh      exng   oldpeak       slp       caa  \\\n",
       "age      -0.116211 -0.398522  0.096801  0.210013 -0.168814  0.276326   \n",
       "sex      -0.058196 -0.044020  0.141664  0.096093 -0.030711  0.118261   \n",
       "cp        0.044421  0.295762 -0.394280 -0.149230  0.119717 -0.181053   \n",
       "trtbps   -0.114103 -0.046698  0.067616  0.193216 -0.121475  0.101389   \n",
       "chol     -0.151040 -0.009940  0.067023  0.053952 -0.004038  0.070511   \n",
       "fbs      -0.084189 -0.008567  0.025665  0.005747 -0.059894  0.137979   \n",
       "restecg   1.000000  0.044123 -0.070733 -0.058770  0.093045 -0.072042   \n",
       "thalachh  0.044123  1.000000 -0.378812 -0.344187  0.386784 -0.213177   \n",
       "exng     -0.070733 -0.378812  1.000000  0.288223 -0.257748  0.115739   \n",
       "oldpeak  -0.058770 -0.344187  0.288223  1.000000 -0.577537  0.222682   \n",
       "slp       0.093045  0.386784 -0.257748 -0.577537  1.000000 -0.080155   \n",
       "caa      -0.072042 -0.213177  0.115739  0.222682 -0.080155  1.000000   \n",
       "thall    -0.011981 -0.096439  0.206754  0.210244 -0.104764  0.151832   \n",
       "output    0.137230  0.421741 -0.436757 -0.430696  0.345877 -0.391724   \n",
       "\n",
       "             thall    output  \n",
       "age       0.068001 -0.225439  \n",
       "sex       0.210041 -0.280937  \n",
       "cp       -0.161736  0.433798  \n",
       "trtbps    0.062210 -0.144931  \n",
       "chol      0.098803 -0.085239  \n",
       "fbs      -0.032019 -0.028046  \n",
       "restecg  -0.011981  0.137230  \n",
       "thalachh -0.096439  0.421741  \n",
       "exng      0.206754 -0.436757  \n",
       "oldpeak   0.210244 -0.430696  \n",
       "slp      -0.104764  0.345877  \n",
       "caa       0.151832 -0.391724  \n",
       "thall     1.000000 -0.344029  \n",
       "output   -0.344029  1.000000  "
      ]
     },
     "execution_count": 13,
     "metadata": {},
     "output_type": "execute_result"
    }
   ],
   "source": [
    "df.corr()"
   ]
  },
  {
   "cell_type": "code",
   "execution_count": 14,
   "id": "fancy-retro",
   "metadata": {
    "execution": {
     "iopub.execute_input": "2021-04-21T16:16:55.887012Z",
     "iopub.status.busy": "2021-04-21T16:16:55.886062Z",
     "iopub.status.idle": "2021-04-21T16:16:56.927794Z",
     "shell.execute_reply": "2021-04-21T16:16:56.927002Z"
    },
    "papermill": {
     "duration": 1.087263,
     "end_time": "2021-04-21T16:16:56.927967",
     "exception": false,
     "start_time": "2021-04-21T16:16:55.840704",
     "status": "completed"
    },
    "tags": []
   },
   "outputs": [
    {
     "data": {
      "text/plain": [
       "<AxesSubplot:>"
      ]
     },
     "execution_count": 14,
     "metadata": {},
     "output_type": "execute_result"
    },
    {
     "data": {
      "image/png": "[encoded data removed]",
      "text/plain": [
       "<Figure size 1080x720 with 2 Axes>"
      ]
     },
     "metadata": {
      "needs_background": "light"
     },
     "output_type": "display_data"
    }
   ],
   "source": [
    "plt.figure(figsize=(15, 10))\n",
    "sns.heatmap(data=df.corr(), annot=True, fmt='.2f', cmap='YlOrRd', linewidths=0.5)"
   ]
  },
  {
   "cell_type": "code",
   "execution_count": 15,
   "id": "surface-donna",
   "metadata": {
    "execution": {
     "iopub.execute_input": "2021-04-21T16:16:57.036602Z",
     "iopub.status.busy": "2021-04-21T16:16:57.035994Z",
     "iopub.status.idle": "2021-04-21T16:16:57.040012Z",
     "shell.execute_reply": "2021-04-21T16:16:57.039392Z"
    },
    "papermill": {
     "duration": 0.063144,
     "end_time": "2021-04-21T16:16:57.040219",
     "exception": false,
     "start_time": "2021-04-21T16:16:56.977075",
     "status": "completed"
    },
    "tags": []
   },
   "outputs": [
    {
     "data": {
      "text/html": [
       "<div>\n",
       "<style scoped>\n",
       "    .dataframe tbody tr th:only-of-type {\n",
       "        vertical-align: middle;\n",
       "    }\n",
       "\n",
       "    .dataframe tbody tr th {\n",
       "        vertical-align: top;\n",
       "    }\n",
       "\n",
       "    .dataframe thead th {\n",
       "        text-align: right;\n",
       "    }\n",
       "</style>\n",
       "<table border=\"1\" class=\"dataframe\">\n",
       "  <thead>\n",
       "    <tr style=\"text-align: right;\">\n",
       "      <th></th>\n",
       "      <th>age</th>\n",
       "      <th>sex</th>\n",
       "      <th>cp</th>\n",
       "      <th>trtbps</th>\n",
       "      <th>chol</th>\n",
       "      <th>fbs</th>\n",
       "      <th>restecg</th>\n",
       "      <th>thalachh</th>\n",
       "      <th>exng</th>\n",
       "      <th>oldpeak</th>\n",
       "      <th>slp</th>\n",
       "      <th>caa</th>\n",
       "      <th>thall</th>\n",
       "      <th>output</th>\n",
       "    </tr>\n",
       "  </thead>\n",
       "  <tbody>\n",
       "    <tr>\n",
       "      <th>0</th>\n",
       "      <td>63</td>\n",
       "      <td>1</td>\n",
       "      <td>3</td>\n",
       "      <td>145</td>\n",
       "      <td>233</td>\n",
       "      <td>1</td>\n",
       "      <td>0</td>\n",
       "      <td>150</td>\n",
       "      <td>0</td>\n",
       "      <td>2.3</td>\n",
       "      <td>0</td>\n",
       "      <td>0</td>\n",
       "      <td>1</td>\n",
       "      <td>1</td>\n",
       "    </tr>\n",
       "    <tr>\n",
       "      <th>1</th>\n",
       "      <td>37</td>\n",
       "      <td>1</td>\n",
       "      <td>2</td>\n",
       "      <td>130</td>\n",
       "      <td>250</td>\n",
       "      <td>0</td>\n",
       "      <td>1</td>\n",
       "      <td>187</td>\n",
       "      <td>0</td>\n",
       "      <td>3.5</td>\n",
       "      <td>0</td>\n",
       "      <td>0</td>\n",
       "      <td>2</td>\n",
       "      <td>1</td>\n",
       "    </tr>\n",
       "    <tr>\n",
       "      <th>2</th>\n",
       "      <td>41</td>\n",
       "      <td>0</td>\n",
       "      <td>1</td>\n",
       "      <td>130</td>\n",
       "      <td>204</td>\n",
       "      <td>0</td>\n",
       "      <td>0</td>\n",
       "      <td>172</td>\n",
       "      <td>0</td>\n",
       "      <td>1.4</td>\n",
       "      <td>2</td>\n",
       "      <td>0</td>\n",
       "      <td>2</td>\n",
       "      <td>1</td>\n",
       "    </tr>\n",
       "    <tr>\n",
       "      <th>3</th>\n",
       "      <td>56</td>\n",
       "      <td>1</td>\n",
       "      <td>1</td>\n",
       "      <td>120</td>\n",
       "      <td>236</td>\n",
       "      <td>0</td>\n",
       "      <td>1</td>\n",
       "      <td>178</td>\n",
       "      <td>0</td>\n",
       "      <td>0.8</td>\n",
       "      <td>2</td>\n",
       "      <td>0</td>\n",
       "      <td>2</td>\n",
       "      <td>1</td>\n",
       "    </tr>\n",
       "    <tr>\n",
       "      <th>4</th>\n",
       "      <td>57</td>\n",
       "      <td>0</td>\n",
       "      <td>0</td>\n",
       "      <td>120</td>\n",
       "      <td>354</td>\n",
       "      <td>0</td>\n",
       "      <td>1</td>\n",
       "      <td>163</td>\n",
       "      <td>1</td>\n",
       "      <td>0.6</td>\n",
       "      <td>2</td>\n",
       "      <td>0</td>\n",
       "      <td>2</td>\n",
       "      <td>1</td>\n",
       "    </tr>\n",
       "  </tbody>\n",
       "</table>\n",
       "</div>"
      ],
      "text/plain": [
       "   age  sex  cp  trtbps  chol  fbs  restecg  thalachh  exng  oldpeak  slp  \\\n",
       "0   63    1   3     145   233    1        0       150     0      2.3    0   \n",
       "1   37    1   2     130   250    0        1       187     0      3.5    0   \n",
       "2   41    0   1     130   204    0        0       172     0      1.4    2   \n",
       "3   56    1   1     120   236    0        1       178     0      0.8    2   \n",
       "4   57    0   0     120   354    0        1       163     1      0.6    2   \n",
       "\n",
       "   caa  thall  output  \n",
       "0    0      1       1  \n",
       "1    0      2       1  \n",
       "2    0      2       1  \n",
       "3    0      2       1  \n",
       "4    0      2       1  "
      ]
     },
     "execution_count": 15,
     "metadata": {},
     "output_type": "execute_result"
    }
   ],
   "source": [
    "df.head()"
   ]
  },
  {
   "cell_type": "markdown",
   "id": "colored-occupation",
   "metadata": {
    "papermill": {
     "duration": 0.045315,
     "end_time": "2021-04-21T16:16:57.131705",
     "exception": false,
     "start_time": "2021-04-21T16:16:57.086390",
     "status": "completed"
    },
    "tags": []
   },
   "source": [
    "# Modelling"
   ]
  },
  {
   "cell_type": "code",
   "execution_count": 16,
   "id": "fuzzy-tract",
   "metadata": {
    "execution": {
     "iopub.execute_input": "2021-04-21T16:16:57.229771Z",
     "iopub.status.busy": "2021-04-21T16:16:57.229158Z",
     "iopub.status.idle": "2021-04-21T16:16:57.232230Z",
     "shell.execute_reply": "2021-04-21T16:16:57.231753Z"
    },
    "papermill": {
     "duration": 0.054686,
     "end_time": "2021-04-21T16:16:57.232375",
     "exception": false,
     "start_time": "2021-04-21T16:16:57.177689",
     "status": "completed"
    },
    "tags": []
   },
   "outputs": [],
   "source": [
    "# Split Data\n",
    "x = df.drop(columns=['output'])\n",
    "\n",
    "y = df['output']"
   ]
  },
  {
   "cell_type": "code",
   "execution_count": 17,
   "id": "discrete-round",
   "metadata": {
    "execution": {
     "iopub.execute_input": "2021-04-21T16:16:57.334550Z",
     "iopub.status.busy": "2021-04-21T16:16:57.333559Z",
     "iopub.status.idle": "2021-04-21T16:16:57.345284Z",
     "shell.execute_reply": "2021-04-21T16:16:57.345832Z"
    },
    "papermill": {
     "duration": 0.067863,
     "end_time": "2021-04-21T16:16:57.346077",
     "exception": false,
     "start_time": "2021-04-21T16:16:57.278214",
     "status": "completed"
    },
    "tags": []
   },
   "outputs": [
    {
     "data": {
      "text/html": [
       "<div>\n",
       "<style scoped>\n",
       "    .dataframe tbody tr th:only-of-type {\n",
       "        vertical-align: middle;\n",
       "    }\n",
       "\n",
       "    .dataframe tbody tr th {\n",
       "        vertical-align: top;\n",
       "    }\n",
       "\n",
       "    .dataframe thead th {\n",
       "        text-align: right;\n",
       "    }\n",
       "</style>\n",
       "<table border=\"1\" class=\"dataframe\">\n",
       "  <thead>\n",
       "    <tr style=\"text-align: right;\">\n",
       "      <th></th>\n",
       "      <th>age</th>\n",
       "      <th>sex</th>\n",
       "      <th>cp</th>\n",
       "      <th>trtbps</th>\n",
       "      <th>chol</th>\n",
       "      <th>fbs</th>\n",
       "      <th>restecg</th>\n",
       "      <th>thalachh</th>\n",
       "      <th>exng</th>\n",
       "      <th>oldpeak</th>\n",
       "      <th>slp</th>\n",
       "      <th>caa</th>\n",
       "      <th>thall</th>\n",
       "    </tr>\n",
       "  </thead>\n",
       "  <tbody>\n",
       "    <tr>\n",
       "      <th>0</th>\n",
       "      <td>63</td>\n",
       "      <td>1</td>\n",
       "      <td>3</td>\n",
       "      <td>145</td>\n",
       "      <td>233</td>\n",
       "      <td>1</td>\n",
       "      <td>0</td>\n",
       "      <td>150</td>\n",
       "      <td>0</td>\n",
       "      <td>2.3</td>\n",
       "      <td>0</td>\n",
       "      <td>0</td>\n",
       "      <td>1</td>\n",
       "    </tr>\n",
       "    <tr>\n",
       "      <th>1</th>\n",
       "      <td>37</td>\n",
       "      <td>1</td>\n",
       "      <td>2</td>\n",
       "      <td>130</td>\n",
       "      <td>250</td>\n",
       "      <td>0</td>\n",
       "      <td>1</td>\n",
       "      <td>187</td>\n",
       "      <td>0</td>\n",
       "      <td>3.5</td>\n",
       "      <td>0</td>\n",
       "      <td>0</td>\n",
       "      <td>2</td>\n",
       "    </tr>\n",
       "    <tr>\n",
       "      <th>2</th>\n",
       "      <td>41</td>\n",
       "      <td>0</td>\n",
       "      <td>1</td>\n",
       "      <td>130</td>\n",
       "      <td>204</td>\n",
       "      <td>0</td>\n",
       "      <td>0</td>\n",
       "      <td>172</td>\n",
       "      <td>0</td>\n",
       "      <td>1.4</td>\n",
       "      <td>2</td>\n",
       "      <td>0</td>\n",
       "      <td>2</td>\n",
       "    </tr>\n",
       "    <tr>\n",
       "      <th>3</th>\n",
       "      <td>56</td>\n",
       "      <td>1</td>\n",
       "      <td>1</td>\n",
       "      <td>120</td>\n",
       "      <td>236</td>\n",
       "      <td>0</td>\n",
       "      <td>1</td>\n",
       "      <td>178</td>\n",
       "      <td>0</td>\n",
       "      <td>0.8</td>\n",
       "      <td>2</td>\n",
       "      <td>0</td>\n",
       "      <td>2</td>\n",
       "    </tr>\n",
       "    <tr>\n",
       "      <th>4</th>\n",
       "      <td>57</td>\n",
       "      <td>0</td>\n",
       "      <td>0</td>\n",
       "      <td>120</td>\n",
       "      <td>354</td>\n",
       "      <td>0</td>\n",
       "      <td>1</td>\n",
       "      <td>163</td>\n",
       "      <td>1</td>\n",
       "      <td>0.6</td>\n",
       "      <td>2</td>\n",
       "      <td>0</td>\n",
       "      <td>2</td>\n",
       "    </tr>\n",
       "    <tr>\n",
       "      <th>...</th>\n",
       "      <td>...</td>\n",
       "      <td>...</td>\n",
       "      <td>...</td>\n",
       "      <td>...</td>\n",
       "      <td>...</td>\n",
       "      <td>...</td>\n",
       "      <td>...</td>\n",
       "      <td>...</td>\n",
       "      <td>...</td>\n",
       "      <td>...</td>\n",
       "      <td>...</td>\n",
       "      <td>...</td>\n",
       "      <td>...</td>\n",
       "    </tr>\n",
       "    <tr>\n",
       "      <th>298</th>\n",
       "      <td>57</td>\n",
       "      <td>0</td>\n",
       "      <td>0</td>\n",
       "      <td>140</td>\n",
       "      <td>241</td>\n",
       "      <td>0</td>\n",
       "      <td>1</td>\n",
       "      <td>123</td>\n",
       "      <td>1</td>\n",
       "      <td>0.2</td>\n",
       "      <td>1</td>\n",
       "      <td>0</td>\n",
       "      <td>3</td>\n",
       "    </tr>\n",
       "    <tr>\n",
       "      <th>299</th>\n",
       "      <td>45</td>\n",
       "      <td>1</td>\n",
       "      <td>3</td>\n",
       "      <td>110</td>\n",
       "      <td>264</td>\n",
       "      <td>0</td>\n",
       "      <td>1</td>\n",
       "      <td>132</td>\n",
       "      <td>0</td>\n",
       "      <td>1.2</td>\n",
       "      <td>1</td>\n",
       "      <td>0</td>\n",
       "      <td>3</td>\n",
       "    </tr>\n",
       "    <tr>\n",
       "      <th>300</th>\n",
       "      <td>68</td>\n",
       "      <td>1</td>\n",
       "      <td>0</td>\n",
       "      <td>144</td>\n",
       "      <td>193</td>\n",
       "      <td>1</td>\n",
       "      <td>1</td>\n",
       "      <td>141</td>\n",
       "      <td>0</td>\n",
       "      <td>3.4</td>\n",
       "      <td>1</td>\n",
       "      <td>2</td>\n",
       "      <td>3</td>\n",
       "    </tr>\n",
       "    <tr>\n",
       "      <th>301</th>\n",
       "      <td>57</td>\n",
       "      <td>1</td>\n",
       "      <td>0</td>\n",
       "      <td>130</td>\n",
       "      <td>131</td>\n",
       "      <td>0</td>\n",
       "      <td>1</td>\n",
       "      <td>115</td>\n",
       "      <td>1</td>\n",
       "      <td>1.2</td>\n",
       "      <td>1</td>\n",
       "      <td>1</td>\n",
       "      <td>3</td>\n",
       "    </tr>\n",
       "    <tr>\n",
       "      <th>302</th>\n",
       "      <td>57</td>\n",
       "      <td>0</td>\n",
       "      <td>1</td>\n",
       "      <td>130</td>\n",
       "      <td>236</td>\n",
       "      <td>0</td>\n",
       "      <td>0</td>\n",
       "      <td>174</td>\n",
       "      <td>0</td>\n",
       "      <td>0.0</td>\n",
       "      <td>1</td>\n",
       "      <td>1</td>\n",
       "      <td>2</td>\n",
       "    </tr>\n",
       "  </tbody>\n",
       "</table>\n",
       "<p>303 rows × 13 columns</p>\n",
       "</div>"
      ],
      "text/plain": [
       "     age  sex  cp  trtbps  chol  fbs  restecg  thalachh  exng  oldpeak  slp  \\\n",
       "0     63    1   3     145   233    1        0       150     0      2.3    0   \n",
       "1     37    1   2     130   250    0        1       187     0      3.5    0   \n",
       "2     41    0   1     130   204    0        0       172     0      1.4    2   \n",
       "3     56    1   1     120   236    0        1       178     0      0.8    2   \n",
       "4     57    0   0     120   354    0        1       163     1      0.6    2   \n",
       "..   ...  ...  ..     ...   ...  ...      ...       ...   ...      ...  ...   \n",
       "298   57    0   0     140   241    0        1       123     1      0.2    1   \n",
       "299   45    1   3     110   264    0        1       132     0      1.2    1   \n",
       "300   68    1   0     144   193    1        1       141     0      3.4    1   \n",
       "301   57    1   0     130   131    0        1       115     1      1.2    1   \n",
       "302   57    0   1     130   236    0        0       174     0      0.0    1   \n",
       "\n",
       "     caa  thall  \n",
       "0      0      1  \n",
       "1      0      2  \n",
       "2      0      2  \n",
       "3      0      2  \n",
       "4      0      2  \n",
       "..   ...    ...  \n",
       "298    0      3  \n",
       "299    0      3  \n",
       "300    2      3  \n",
       "301    1      3  \n",
       "302    1      2  \n",
       "\n",
       "[303 rows x 13 columns]"
      ]
     },
     "execution_count": 17,
     "metadata": {},
     "output_type": "execute_result"
    }
   ],
   "source": [
    "x"
   ]
  },
  {
   "cell_type": "code",
   "execution_count": 18,
   "id": "directed-jacksonville",
   "metadata": {
    "execution": {
     "iopub.execute_input": "2021-04-21T16:16:57.445947Z",
     "iopub.status.busy": "2021-04-21T16:16:57.445285Z",
     "iopub.status.idle": "2021-04-21T16:16:57.450163Z",
     "shell.execute_reply": "2021-04-21T16:16:57.450586Z"
    },
    "papermill": {
     "duration": 0.057231,
     "end_time": "2021-04-21T16:16:57.450756",
     "exception": false,
     "start_time": "2021-04-21T16:16:57.393525",
     "status": "completed"
    },
    "tags": []
   },
   "outputs": [
    {
     "data": {
      "text/plain": [
       "0      1\n",
       "1      1\n",
       "2      1\n",
       "3      1\n",
       "4      1\n",
       "      ..\n",
       "298    0\n",
       "299    0\n",
       "300    0\n",
       "301    0\n",
       "302    0\n",
       "Name: output, Length: 303, dtype: int64"
      ]
     },
     "execution_count": 18,
     "metadata": {},
     "output_type": "execute_result"
    }
   ],
   "source": [
    "y"
   ]
  },
  {
   "cell_type": "code",
   "execution_count": 19,
   "id": "injured-costume",
   "metadata": {
    "execution": {
     "iopub.execute_input": "2021-04-21T16:16:57.552780Z",
     "iopub.status.busy": "2021-04-21T16:16:57.552195Z",
     "iopub.status.idle": "2021-04-21T16:16:57.555484Z",
     "shell.execute_reply": "2021-04-21T16:16:57.554873Z"
    },
    "papermill": {
     "duration": 0.056847,
     "end_time": "2021-04-21T16:16:57.555618",
     "exception": false,
     "start_time": "2021-04-21T16:16:57.498771",
     "status": "completed"
    },
    "tags": []
   },
   "outputs": [],
   "source": [
    "# split into train and test\n",
    "x_train, x_test, y_train, y_test = train_test_split(x, y, test_size=0.2, random_state=42)"
   ]
  },
  {
   "cell_type": "code",
   "execution_count": 20,
   "id": "accompanied-maria",
   "metadata": {
    "execution": {
     "iopub.execute_input": "2021-04-21T16:16:57.657642Z",
     "iopub.status.busy": "2021-04-21T16:16:57.656736Z",
     "iopub.status.idle": "2021-04-21T16:16:57.661602Z",
     "shell.execute_reply": "2021-04-21T16:16:57.660998Z"
    },
    "papermill": {
     "duration": 0.058217,
     "end_time": "2021-04-21T16:16:57.661740",
     "exception": false,
     "start_time": "2021-04-21T16:16:57.603523",
     "status": "completed"
    },
    "tags": []
   },
   "outputs": [
    {
     "data": {
      "text/plain": [
       "((242, 13), (61, 13), (242,), (61,))"
      ]
     },
     "execution_count": 20,
     "metadata": {},
     "output_type": "execute_result"
    }
   ],
   "source": [
    "x_train.shape, x_test.shape, y_train.shape, y_test.shape"
   ]
  },
  {
   "cell_type": "markdown",
   "id": "beginning-auckland",
   "metadata": {
    "papermill": {
     "duration": 0.047319,
     "end_time": "2021-04-21T16:16:57.756747",
     "exception": false,
     "start_time": "2021-04-21T16:16:57.709428",
     "status": "completed"
    },
    "tags": []
   },
   "source": [
    "## Model selection"
   ]
  },
  {
   "cell_type": "code",
   "execution_count": 21,
   "id": "sealed-growth",
   "metadata": {
    "execution": {
     "iopub.execute_input": "2021-04-21T16:16:57.958850Z",
     "iopub.status.busy": "2021-04-21T16:16:57.958191Z",
     "iopub.status.idle": "2021-04-21T16:16:57.961302Z",
     "shell.execute_reply": "2021-04-21T16:16:57.960832Z"
    },
    "papermill": {
     "duration": 0.157421,
     "end_time": "2021-04-21T16:16:57.961438",
     "exception": false,
     "start_time": "2021-04-21T16:16:57.804017",
     "status": "completed"
    },
    "tags": []
   },
   "outputs": [],
   "source": [
    "model_selection = {'Logistic Regression': LogisticRegression(),\n",
    "                   'K Neighbors Classifier': KNeighborsClassifier(),\n",
    "                   'Random Forest Classifier': RandomForestClassifier()}\n",
    "\n",
    "def fit_and_score(x_train, x_test, y_train, y_test):\n",
    "    # Make empty Score dic\n",
    "    score = {}\n",
    "    # Model fit\n",
    "    for name, model in model_selection.items():\n",
    "        # Fit the data in to model\n",
    "        model.fit(x_train, y_train)\n",
    "        # save the score \n",
    "        score[name] = model.score(x_test, y_test)\n",
    "    return score"
   ]
  },
  {
   "cell_type": "code",
   "execution_count": 22,
   "id": "vital-graph",
   "metadata": {
    "execution": {
     "iopub.execute_input": "2021-04-21T16:16:58.094994Z",
     "iopub.status.busy": "2021-04-21T16:16:58.086127Z",
     "iopub.status.idle": "2021-04-21T16:16:58.270033Z",
     "shell.execute_reply": "2021-04-21T16:16:58.269405Z"
    },
    "papermill": {
     "duration": 0.260047,
     "end_time": "2021-04-21T16:16:58.270183",
     "exception": false,
     "start_time": "2021-04-21T16:16:58.010136",
     "status": "completed"
    },
    "tags": []
   },
   "outputs": [
    {
     "name": "stderr",
     "output_type": "stream",
     "text": [
      "/opt/conda/lib/python3.7/site-packages/sklearn/linear_model/_logistic.py:765: ConvergenceWarning: lbfgs failed to converge (status=1):\n",
      "STOP: TOTAL NO. of ITERATIONS REACHED LIMIT.\n",
      "\n",
      "Increase the number of iterations (max_iter) or scale the data as shown in:\n",
      "    https://scikit-learn.org/stable/modules/preprocessing.html\n",
      "Please also refer to the documentation for alternative solver options:\n",
      "    https://scikit-learn.org/stable/modules/linear_model.html#logistic-regression\n",
      "  extra_warning_msg=_LOGISTIC_SOLVER_CONVERGENCE_MSG)\n"
     ]
    },
    {
     "data": {
      "text/plain": [
       "{'Logistic Regression': 0.8852459016393442,\n",
       " 'K Neighbors Classifier': 0.6885245901639344,\n",
       " 'Random Forest Classifier': 0.8524590163934426}"
      ]
     },
     "execution_count": 22,
     "metadata": {},
     "output_type": "execute_result"
    }
   ],
   "source": [
    "model_scores = fit_and_score(x_train=x_train, x_test=x_test, y_train=y_train, y_test=y_test)\n",
    "\n",
    "model_scores"
   ]
  },
  {
   "cell_type": "code",
   "execution_count": 23,
   "id": "automated-architect",
   "metadata": {
    "execution": {
     "iopub.execute_input": "2021-04-21T16:16:58.413959Z",
     "iopub.status.busy": "2021-04-21T16:16:58.413176Z",
     "iopub.status.idle": "2021-04-21T16:16:58.508705Z",
     "shell.execute_reply": "2021-04-21T16:16:58.508072Z"
    },
    "papermill": {
     "duration": 0.188508,
     "end_time": "2021-04-21T16:16:58.508862",
     "exception": false,
     "start_time": "2021-04-21T16:16:58.320354",
     "status": "completed"
    },
    "tags": []
   },
   "outputs": [
    {
     "data": {
      "text/plain": [
       "<AxesSubplot:>"
      ]
     },
     "execution_count": 23,
     "metadata": {},
     "output_type": "execute_result"
    },
    {
     "data": {
      "image/png": "[encoded data removed]",
      "text/plain": [
       "<Figure size 432x288 with 1 Axes>"
      ]
     },
     "metadata": {
      "needs_background": "light"
     },
     "output_type": "display_data"
    }
   ],
   "source": [
    "model_compare = pd.DataFrame(model_scores, index=['accuracy'])\n",
    "\n",
    "model_compare.T.plot(kind='bar')"
   ]
  },
  {
   "cell_type": "markdown",
   "id": "corporate-employment",
   "metadata": {
    "papermill": {
     "duration": 0.051058,
     "end_time": "2021-04-21T16:16:58.609149",
     "exception": false,
     "start_time": "2021-04-21T16:16:58.558091",
     "status": "completed"
    },
    "tags": []
   },
   "source": [
    "# For improve accuracy following steps :\n",
    "* Hypyterparameter tuning\n",
    "* feature importance\n",
    "* Confusion Matrix\n",
    "* Cross Validation\n",
    "* Precision\n",
    "* Recall\n",
    "* F1 score\n",
    "* Classification Report\n",
    "* ROC Curve\n",
    "* Area under the curve (AUC)\n",
    "\n",
    "### HyperParameters Tuning (by hand)"
   ]
  },
  {
   "cell_type": "code",
   "execution_count": 24,
   "id": "eligible-rhythm",
   "metadata": {
    "execution": {
     "iopub.execute_input": "2021-04-21T16:16:58.717045Z",
     "iopub.status.busy": "2021-04-21T16:16:58.716354Z",
     "iopub.status.idle": "2021-04-21T16:16:59.063275Z",
     "shell.execute_reply": "2021-04-21T16:16:59.062691Z"
    },
    "papermill": {
     "duration": 0.403833,
     "end_time": "2021-04-21T16:16:59.063424",
     "exception": false,
     "start_time": "2021-04-21T16:16:58.659591",
     "status": "completed"
    },
    "tags": []
   },
   "outputs": [],
   "source": [
    "# KNN tune\n",
    "train_score = []\n",
    "test_score = []\n",
    "\n",
    "# Create a list of different values for K-Neighbors\n",
    "neighbors = range(1, 21)\n",
    "\n",
    "# Setup KNN instant\n",
    "knn = KNeighborsClassifier()\n",
    "\n",
    "# Loop through different n_neighbors\n",
    "for i in neighbors:\n",
    "    knn.set_params(n_neighbors=i)\n",
    "    \n",
    "    # Fit the algorithm\n",
    "    knn.fit(x_train, y_train)\n",
    "    \n",
    "    # update training score list\n",
    "    train_score.append(knn.score(x_train, y_train))\n",
    "    \n",
    "    # update test score list\n",
    "    test_score.append(knn.score(x_test, y_test))\n",
    "    "
   ]
  },
  {
   "cell_type": "code",
   "execution_count": 25,
   "id": "numeric-garage",
   "metadata": {
    "execution": {
     "iopub.execute_input": "2021-04-21T16:16:59.167139Z",
     "iopub.status.busy": "2021-04-21T16:16:59.166515Z",
     "iopub.status.idle": "2021-04-21T16:16:59.170987Z",
     "shell.execute_reply": "2021-04-21T16:16:59.170419Z"
    },
    "papermill": {
     "duration": 0.058304,
     "end_time": "2021-04-21T16:16:59.171126",
     "exception": false,
     "start_time": "2021-04-21T16:16:59.112822",
     "status": "completed"
    },
    "tags": []
   },
   "outputs": [
    {
     "data": {
      "text/plain": [
       "[1.0,\n",
       " 0.8099173553719008,\n",
       " 0.7727272727272727,\n",
       " 0.743801652892562,\n",
       " 0.7603305785123967,\n",
       " 0.7520661157024794,\n",
       " 0.743801652892562,\n",
       " 0.7231404958677686,\n",
       " 0.71900826446281,\n",
       " 0.6942148760330579,\n",
       " 0.7272727272727273,\n",
       " 0.6983471074380165,\n",
       " 0.6900826446280992,\n",
       " 0.6942148760330579,\n",
       " 0.6859504132231405,\n",
       " 0.6735537190082644,\n",
       " 0.6859504132231405,\n",
       " 0.6652892561983471,\n",
       " 0.6818181818181818,\n",
       " 0.6694214876033058]"
      ]
     },
     "execution_count": 25,
     "metadata": {},
     "output_type": "execute_result"
    }
   ],
   "source": [
    "train_score"
   ]
  },
  {
   "cell_type": "code",
   "execution_count": 26,
   "id": "criminal-center",
   "metadata": {
    "execution": {
     "iopub.execute_input": "2021-04-21T16:16:59.275264Z",
     "iopub.status.busy": "2021-04-21T16:16:59.274674Z",
     "iopub.status.idle": "2021-04-21T16:16:59.279503Z",
     "shell.execute_reply": "2021-04-21T16:16:59.278957Z"
    },
    "papermill": {
     "duration": 0.059127,
     "end_time": "2021-04-21T16:16:59.279634",
     "exception": false,
     "start_time": "2021-04-21T16:16:59.220507",
     "status": "completed"
    },
    "tags": []
   },
   "outputs": [
    {
     "data": {
      "text/plain": [
       "[0.6229508196721312,\n",
       " 0.639344262295082,\n",
       " 0.6557377049180327,\n",
       " 0.6721311475409836,\n",
       " 0.6885245901639344,\n",
       " 0.7213114754098361,\n",
       " 0.7049180327868853,\n",
       " 0.6885245901639344,\n",
       " 0.6885245901639344,\n",
       " 0.7049180327868853,\n",
       " 0.7540983606557377,\n",
       " 0.7377049180327869,\n",
       " 0.7377049180327869,\n",
       " 0.7377049180327869,\n",
       " 0.6885245901639344,\n",
       " 0.7213114754098361,\n",
       " 0.6885245901639344,\n",
       " 0.6885245901639344,\n",
       " 0.7049180327868853,\n",
       " 0.6557377049180327]"
      ]
     },
     "execution_count": 26,
     "metadata": {},
     "output_type": "execute_result"
    }
   ],
   "source": [
    "test_score"
   ]
  },
  {
   "cell_type": "code",
   "execution_count": 27,
   "id": "yellow-newman",
   "metadata": {
    "execution": {
     "iopub.execute_input": "2021-04-21T16:16:59.408371Z",
     "iopub.status.busy": "2021-04-21T16:16:59.407119Z",
     "iopub.status.idle": "2021-04-21T16:16:59.653102Z",
     "shell.execute_reply": "2021-04-21T16:16:59.652382Z"
    },
    "papermill": {
     "duration": 0.323802,
     "end_time": "2021-04-21T16:16:59.653244",
     "exception": false,
     "start_time": "2021-04-21T16:16:59.329442",
     "status": "completed"
    },
    "tags": []
   },
   "outputs": [
    {
     "name": "stdout",
     "output_type": "stream",
     "text": [
      "Maximum KNN Score on the test data:75.41%\n"
     ]
    },
    {
     "data": {
      "image/png": "[encoded data removed]",
      "text/plain": [
       "<Figure size 1080x576 with 1 Axes>"
      ]
     },
     "metadata": {
      "needs_background": "light"
     },
     "output_type": "display_data"
    }
   ],
   "source": [
    "plt.figure(figsize=(15, 8))\n",
    "\n",
    "sns.lineplot(x=neighbors, y=train_score)\n",
    "sns.lineplot(x=neighbors, y=test_score)\n",
    "plt.xticks(np.arange(1,21))\n",
    "plt.xlabel('Different values of Neighbors')\n",
    "plt.ylabel('Model Score')\n",
    "plt.legend(['train_score', 'test_score'])\n",
    "\n",
    "print(f'Maximum KNN Score on the test data:{max(test_score)*100:.2f}%')"
   ]
  },
  {
   "cell_type": "markdown",
   "id": "frank-grant",
   "metadata": {
    "papermill": {
     "duration": 0.051235,
     "end_time": "2021-04-21T16:16:59.756375",
     "exception": false,
     "start_time": "2021-04-21T16:16:59.705140",
     "status": "completed"
    },
    "tags": []
   },
   "source": [
    "## Hyperparameter tunning with RandomizedSearchCV\n",
    "\n",
    "Now tunning following:\n",
    "* Logistic Regression()\n",
    "* Random Forest Classifier()\n",
    "\n",
    "... using RandomizedSearchCV"
   ]
  },
  {
   "cell_type": "code",
   "execution_count": 28,
   "id": "delayed-stamp",
   "metadata": {
    "execution": {
     "iopub.execute_input": "2021-04-21T16:16:59.866723Z",
     "iopub.status.busy": "2021-04-21T16:16:59.866007Z",
     "iopub.status.idle": "2021-04-21T16:16:59.869105Z",
     "shell.execute_reply": "2021-04-21T16:16:59.868499Z"
    },
    "papermill": {
     "duration": 0.061243,
     "end_time": "2021-04-21T16:16:59.869256",
     "exception": false,
     "start_time": "2021-04-21T16:16:59.808013",
     "status": "completed"
    },
    "tags": []
   },
   "outputs": [],
   "source": [
    "# Create a hyperparameter grid for Logistic Regression\n",
    "log_reg_grid = {'C': np.logspace(-4, 4, 20),\n",
    "                'solver': ['liblinear']}\n",
    "\n",
    "# Create a hyperparameter grid for RandomForestClassifier\n",
    "rf_grid = {'n_estimators': np.arange(10, 1000, 50),\n",
    "           'max_depth': [None, 3, 5, 10],\n",
    "           'min_samples_split': np.arange(2, 20, 2),\n",
    "           'min_samples_leaf': np.arange(1, 20, 2)}"
   ]
  },
  {
   "cell_type": "markdown",
   "id": "italian-proof",
   "metadata": {
    "papermill": {
     "duration": 0.050832,
     "end_time": "2021-04-21T16:16:59.971398",
     "exception": false,
     "start_time": "2021-04-21T16:16:59.920566",
     "status": "completed"
    },
    "tags": []
   },
   "source": [
    "Now hyperparameter grids setup for each models ansd tune them using RandomizedSearchCV..."
   ]
  },
  {
   "cell_type": "code",
   "execution_count": 29,
   "id": "upset-manufacturer",
   "metadata": {
    "execution": {
     "iopub.execute_input": "2021-04-21T16:17:00.085708Z",
     "iopub.status.busy": "2021-04-21T16:17:00.080644Z",
     "iopub.status.idle": "2021-04-21T16:17:00.672038Z",
     "shell.execute_reply": "2021-04-21T16:17:00.671512Z"
    },
    "papermill": {
     "duration": 0.648139,
     "end_time": "2021-04-21T16:17:00.672183",
     "exception": false,
     "start_time": "2021-04-21T16:17:00.024044",
     "status": "completed"
    },
    "tags": []
   },
   "outputs": [
    {
     "name": "stdout",
     "output_type": "stream",
     "text": [
      "Fitting 5 folds for each of 20 candidates, totalling 100 fits\n"
     ]
    },
    {
     "data": {
      "text/plain": [
       "RandomizedSearchCV(cv=5, estimator=LogisticRegression(), n_iter=20,\n",
       "                   param_distributions={'C': array([1.00000000e-04, 2.63665090e-04, 6.95192796e-04, 1.83298071e-03,\n",
       "       4.83293024e-03, 1.27427499e-02, 3.35981829e-02, 8.85866790e-02,\n",
       "       2.33572147e-01, 6.15848211e-01, 1.62377674e+00, 4.28133240e+00,\n",
       "       1.12883789e+01, 2.97635144e+01, 7.84759970e+01, 2.06913808e+02,\n",
       "       5.45559478e+02, 1.43844989e+03, 3.79269019e+03, 1.00000000e+04]),\n",
       "                                        'solver': ['liblinear']},\n",
       "                   random_state=42, verbose=True)"
      ]
     },
     "execution_count": 29,
     "metadata": {},
     "output_type": "execute_result"
    }
   ],
   "source": [
    "# setup random hyperparameter search for LogisticRegression\n",
    "rs_log_reg = RandomizedSearchCV(LogisticRegression(),\n",
    "                                param_distributions=log_reg_grid,\n",
    "                                cv=5,\n",
    "                                n_iter=20,\n",
    "                                verbose=True, \n",
    "                                random_state=42)\n",
    "\n",
    "# fit random hyperparameter search model for LogisticRegression\n",
    "rs_log_reg.fit(x_train, y_train)"
   ]
  },
  {
   "cell_type": "code",
   "execution_count": 30,
   "id": "israeli-magnitude",
   "metadata": {
    "execution": {
     "iopub.execute_input": "2021-04-21T16:17:00.783872Z",
     "iopub.status.busy": "2021-04-21T16:17:00.782852Z",
     "iopub.status.idle": "2021-04-21T16:17:00.787672Z",
     "shell.execute_reply": "2021-04-21T16:17:00.787173Z"
    },
    "papermill": {
     "duration": 0.061849,
     "end_time": "2021-04-21T16:17:00.787842",
     "exception": false,
     "start_time": "2021-04-21T16:17:00.725993",
     "status": "completed"
    },
    "tags": []
   },
   "outputs": [
    {
     "data": {
      "text/plain": [
       "{'solver': 'liblinear', 'C': 0.23357214690901212}"
      ]
     },
     "execution_count": 30,
     "metadata": {},
     "output_type": "execute_result"
    }
   ],
   "source": [
    "# Find the best hyperparameters\n",
    "rs_log_reg.best_params_"
   ]
  },
  {
   "cell_type": "code",
   "execution_count": 31,
   "id": "seeing-precipitation",
   "metadata": {
    "execution": {
     "iopub.execute_input": "2021-04-21T16:17:00.902507Z",
     "iopub.status.busy": "2021-04-21T16:17:00.901571Z",
     "iopub.status.idle": "2021-04-21T16:17:00.907020Z",
     "shell.execute_reply": "2021-04-21T16:17:00.906429Z"
    },
    "papermill": {
     "duration": 0.065091,
     "end_time": "2021-04-21T16:17:00.907158",
     "exception": false,
     "start_time": "2021-04-21T16:17:00.842067",
     "status": "completed"
    },
    "tags": []
   },
   "outputs": [
    {
     "data": {
      "text/plain": [
       "0.8852459016393442"
      ]
     },
     "execution_count": 31,
     "metadata": {},
     "output_type": "execute_result"
    }
   ],
   "source": [
    "# Evaluate the randomized search randomforestClassifier model\n",
    "rs_log_reg.score(x_test, y_test)"
   ]
  },
  {
   "cell_type": "markdown",
   "id": "major-hurricane",
   "metadata": {
    "papermill": {
     "duration": 0.053833,
     "end_time": "2021-04-21T16:17:01.013859",
     "exception": false,
     "start_time": "2021-04-21T16:17:00.960026",
     "status": "completed"
    },
    "tags": []
   },
   "source": [
    "Now tuned LogisticRegression(), Let's do the same for RandomForestClassifer()..."
   ]
  },
  {
   "cell_type": "code",
   "execution_count": 32,
   "id": "quality-gardening",
   "metadata": {
    "execution": {
     "iopub.execute_input": "2021-04-21T16:17:01.126260Z",
     "iopub.status.busy": "2021-04-21T16:17:01.125317Z",
     "iopub.status.idle": "2021-04-21T16:18:10.403559Z",
     "shell.execute_reply": "2021-04-21T16:18:10.404038Z"
    },
    "papermill": {
     "duration": 69.337401,
     "end_time": "2021-04-21T16:18:10.404219",
     "exception": false,
     "start_time": "2021-04-21T16:17:01.066818",
     "status": "completed"
    },
    "tags": []
   },
   "outputs": [
    {
     "name": "stdout",
     "output_type": "stream",
     "text": [
      "Fitting 5 folds for each of 20 candidates, totalling 100 fits\n"
     ]
    },
    {
     "data": {
      "text/plain": [
       "RandomizedSearchCV(cv=5, estimator=RandomForestClassifier(), n_iter=20,\n",
       "                   param_distributions={'max_depth': [None, 3, 5, 10],\n",
       "                                        'min_samples_leaf': array([ 1,  3,  5,  7,  9, 11, 13, 15, 17, 19]),\n",
       "                                        'min_samples_split': array([ 2,  4,  6,  8, 10, 12, 14, 16, 18]),\n",
       "                                        'n_estimators': array([ 10,  60, 110, 160, 210, 260, 310, 360, 410, 460, 510, 560, 610,\n",
       "       660, 710, 760, 810, 860, 910, 960])},\n",
       "                   random_state=42, verbose=True)"
      ]
     },
     "execution_count": 32,
     "metadata": {},
     "output_type": "execute_result"
    }
   ],
   "source": [
    "# Setup random hyperparameter search for RandomForestClassifier\n",
    "rs_rf = RandomizedSearchCV(RandomForestClassifier(),\n",
    "                           param_distributions=rf_grid,\n",
    "                           cv=5,\n",
    "                           n_iter=20,\n",
    "                           verbose=True,\n",
    "                           random_state=42)\n",
    "\n",
    "# Fit random hyperparameter search model for RandomForestClassifier\n",
    "rs_rf.fit(x_train, y_train)"
   ]
  },
  {
   "cell_type": "code",
   "execution_count": 33,
   "id": "weekly-stress",
   "metadata": {
    "execution": {
     "iopub.execute_input": "2021-04-21T16:18:10.517826Z",
     "iopub.status.busy": "2021-04-21T16:18:10.516878Z",
     "iopub.status.idle": "2021-04-21T16:18:10.522000Z",
     "shell.execute_reply": "2021-04-21T16:18:10.522397Z"
    },
    "papermill": {
     "duration": 0.064377,
     "end_time": "2021-04-21T16:18:10.522567",
     "exception": false,
     "start_time": "2021-04-21T16:18:10.458190",
     "status": "completed"
    },
    "tags": []
   },
   "outputs": [
    {
     "data": {
      "text/plain": [
       "{'n_estimators': 560,\n",
       " 'min_samples_split': 12,\n",
       " 'min_samples_leaf': 15,\n",
       " 'max_depth': 3}"
      ]
     },
     "execution_count": 33,
     "metadata": {},
     "output_type": "execute_result"
    }
   ],
   "source": [
    "# Find the best hyperparameters\n",
    "rs_rf.best_params_"
   ]
  },
  {
   "cell_type": "code",
   "execution_count": 34,
   "id": "formed-friend",
   "metadata": {
    "execution": {
     "iopub.execute_input": "2021-04-21T16:18:10.636446Z",
     "iopub.status.busy": "2021-04-21T16:18:10.635491Z",
     "iopub.status.idle": "2021-04-21T16:18:10.696330Z",
     "shell.execute_reply": "2021-04-21T16:18:10.695667Z"
    },
    "papermill": {
     "duration": 0.119171,
     "end_time": "2021-04-21T16:18:10.696472",
     "exception": false,
     "start_time": "2021-04-21T16:18:10.577301",
     "status": "completed"
    },
    "tags": []
   },
   "outputs": [
    {
     "data": {
      "text/plain": [
       "0.8688524590163934"
      ]
     },
     "execution_count": 34,
     "metadata": {},
     "output_type": "execute_result"
    }
   ],
   "source": [
    "# Evaluate the randomized search randomforestClassifier model\n",
    "rs_rf.score(x_test, y_test)"
   ]
  },
  {
   "cell_type": "markdown",
   "id": "outer-period",
   "metadata": {
    "papermill": {
     "duration": 0.054068,
     "end_time": "2021-04-21T16:18:10.805746",
     "exception": false,
     "start_time": "2021-04-21T16:18:10.751678",
     "status": "completed"
    },
    "tags": []
   },
   "source": [
    "## Hyperparameter Tuning with GridSearchCV\n",
    "\n",
    "LogisticRegression model provides the best scores so far,  therefore improve again using GridSearchCV..."
   ]
  },
  {
   "cell_type": "code",
   "execution_count": 35,
   "id": "japanese-acrobat",
   "metadata": {
    "execution": {
     "iopub.execute_input": "2021-04-21T16:18:10.924501Z",
     "iopub.status.busy": "2021-04-21T16:18:10.923279Z",
     "iopub.status.idle": "2021-04-21T16:18:11.844681Z",
     "shell.execute_reply": "2021-04-21T16:18:11.845144Z"
    },
    "papermill": {
     "duration": 0.984218,
     "end_time": "2021-04-21T16:18:11.845322",
     "exception": false,
     "start_time": "2021-04-21T16:18:10.861104",
     "status": "completed"
    },
    "tags": []
   },
   "outputs": [
    {
     "name": "stdout",
     "output_type": "stream",
     "text": [
      "Fitting 5 folds for each of 30 candidates, totalling 150 fits\n"
     ]
    },
    {
     "data": {
      "text/plain": [
       "GridSearchCV(cv=5, estimator=LogisticRegression(),\n",
       "             param_grid={'C': array([1.00000000e-04, 1.88739182e-04, 3.56224789e-04, 6.72335754e-04,\n",
       "       1.26896100e-03, 2.39502662e-03, 4.52035366e-03, 8.53167852e-03,\n",
       "       1.61026203e-02, 3.03919538e-02, 5.73615251e-02, 1.08263673e-01,\n",
       "       2.04335972e-01, 3.85662042e-01, 7.27895384e-01, 1.37382380e+00,\n",
       "       2.59294380e+00, 4.89390092e+00, 9.23670857e+00, 1.74332882e+01,\n",
       "       3.29034456e+01, 6.21016942e+01, 1.17210230e+02, 2.21221629e+02,\n",
       "       4.17531894e+02, 7.88046282e+02, 1.48735211e+03, 2.80721620e+03,\n",
       "       5.29831691e+03, 1.00000000e+04]),\n",
       "                         'solver': ['liblinear']},\n",
       "             verbose=True)"
      ]
     },
     "execution_count": 35,
     "metadata": {},
     "output_type": "execute_result"
    }
   ],
   "source": [
    "# Diffrent hyperparameters for our LogisticRegression model\n",
    "log_reg_grid = {'C': np.logspace(-4,4,30),\n",
    "                'solver': ['liblinear']}\n",
    "\n",
    "# setup grid hyperparameter search for LogisticRegression\n",
    "gs_log_reg = GridSearchCV(LogisticRegression(),\n",
    "                          param_grid= log_reg_grid,\n",
    "                          cv=5,\n",
    "                          verbose=True)\n",
    "\n",
    "# Fit grid hyperparameter search model\n",
    "gs_log_reg.fit(x_train, y_train)"
   ]
  },
  {
   "cell_type": "code",
   "execution_count": 36,
   "id": "composite-stereo",
   "metadata": {
    "execution": {
     "iopub.execute_input": "2021-04-21T16:18:11.963769Z",
     "iopub.status.busy": "2021-04-21T16:18:11.963121Z",
     "iopub.status.idle": "2021-04-21T16:18:11.967770Z",
     "shell.execute_reply": "2021-04-21T16:18:11.967254Z"
    },
    "papermill": {
     "duration": 0.065597,
     "end_time": "2021-04-21T16:18:11.967940",
     "exception": false,
     "start_time": "2021-04-21T16:18:11.902343",
     "status": "completed"
    },
    "tags": []
   },
   "outputs": [
    {
     "data": {
      "text/plain": [
       "{'C': 0.20433597178569418, 'solver': 'liblinear'}"
      ]
     },
     "execution_count": 36,
     "metadata": {},
     "output_type": "execute_result"
    }
   ],
   "source": [
    "# Check the best hyperparameters\n",
    "gs_log_reg.best_params_"
   ]
  },
  {
   "cell_type": "code",
   "execution_count": 37,
   "id": "known-general",
   "metadata": {
    "execution": {
     "iopub.execute_input": "2021-04-21T16:18:12.128886Z",
     "iopub.status.busy": "2021-04-21T16:18:12.127895Z",
     "iopub.status.idle": "2021-04-21T16:18:12.131662Z",
     "shell.execute_reply": "2021-04-21T16:18:12.132130Z"
    },
    "papermill": {
     "duration": 0.093896,
     "end_time": "2021-04-21T16:18:12.132299",
     "exception": false,
     "start_time": "2021-04-21T16:18:12.038403",
     "status": "completed"
    },
    "tags": []
   },
   "outputs": [
    {
     "data": {
      "text/plain": [
       "0.8852459016393442"
      ]
     },
     "execution_count": 37,
     "metadata": {},
     "output_type": "execute_result"
    }
   ],
   "source": [
    "# Evaluate the grid search LogisticRegression model\n",
    "gs_log_reg.score(x_test, y_test)"
   ]
  },
  {
   "cell_type": "markdown",
   "id": "immune-range",
   "metadata": {
    "papermill": {
     "duration": 0.055099,
     "end_time": "2021-04-21T16:18:12.243312",
     "exception": false,
     "start_time": "2021-04-21T16:18:12.188213",
     "status": "completed"
    },
    "tags": []
   },
   "source": [
    "## Evaluting our tuned machine learning classifier, beyond accuracy\n",
    "\n",
    "* ROC curve and AUC score\n",
    "* Confusion matrix\n",
    "* classification report\n",
    "* Precision\n",
    "* Recall\n",
    "* F1-Score\n",
    "\n",
    "....and it would be great it cross-validaton was used where possible\n",
    "\n",
    "to make comaparistions and evaluate our trained model, first we need to make predictions."
   ]
  },
  {
   "cell_type": "code",
   "execution_count": 38,
   "id": "bronze-greensboro",
   "metadata": {
    "execution": {
     "iopub.execute_input": "2021-04-21T16:18:12.365824Z",
     "iopub.status.busy": "2021-04-21T16:18:12.364716Z",
     "iopub.status.idle": "2021-04-21T16:18:12.368674Z",
     "shell.execute_reply": "2021-04-21T16:18:12.369157Z"
    },
    "papermill": {
     "duration": 0.06816,
     "end_time": "2021-04-21T16:18:12.369326",
     "exception": false,
     "start_time": "2021-04-21T16:18:12.301166",
     "status": "completed"
    },
    "tags": []
   },
   "outputs": [
    {
     "data": {
      "text/plain": [
       "array([0, 1, 1, 0, 1, 1, 1, 0, 0, 1, 1, 0, 1, 0, 1, 1, 1, 0, 0, 0, 1, 0,\n",
       "       0, 1, 1, 1, 1, 1, 0, 1, 0, 0, 0, 0, 1, 0, 1, 1, 1, 1, 1, 1, 1, 1,\n",
       "       1, 0, 1, 1, 0, 0, 0, 0, 1, 1, 0, 0, 0, 1, 0, 0, 0])"
      ]
     },
     "execution_count": 38,
     "metadata": {},
     "output_type": "execute_result"
    }
   ],
   "source": [
    "# make predictions with tuned model\n",
    "y_preds = gs_log_reg.predict(x_test)\n",
    "\n",
    "y_preds"
   ]
  },
  {
   "cell_type": "code",
   "execution_count": 39,
   "id": "superior-brooklyn",
   "metadata": {
    "execution": {
     "iopub.execute_input": "2021-04-21T16:18:12.489687Z",
     "iopub.status.busy": "2021-04-21T16:18:12.488866Z",
     "iopub.status.idle": "2021-04-21T16:18:12.493606Z",
     "shell.execute_reply": "2021-04-21T16:18:12.493150Z"
    },
    "papermill": {
     "duration": 0.067529,
     "end_time": "2021-04-21T16:18:12.493745",
     "exception": false,
     "start_time": "2021-04-21T16:18:12.426216",
     "status": "completed"
    },
    "tags": []
   },
   "outputs": [
    {
     "data": {
      "text/plain": [
       "179    0\n",
       "228    0\n",
       "111    1\n",
       "246    0\n",
       "60     1\n",
       "      ..\n",
       "249    0\n",
       "104    1\n",
       "300    0\n",
       "193    0\n",
       "184    0\n",
       "Name: output, Length: 61, dtype: int64"
      ]
     },
     "execution_count": 39,
     "metadata": {},
     "output_type": "execute_result"
    }
   ],
   "source": [
    "y_test"
   ]
  },
  {
   "cell_type": "code",
   "execution_count": 40,
   "id": "molecular-painting",
   "metadata": {
    "execution": {
     "iopub.execute_input": "2021-04-21T16:18:12.628987Z",
     "iopub.status.busy": "2021-04-21T16:18:12.614118Z",
     "iopub.status.idle": "2021-04-21T16:18:12.760707Z",
     "shell.execute_reply": "2021-04-21T16:18:12.759729Z"
    },
    "papermill": {
     "duration": 0.21047,
     "end_time": "2021-04-21T16:18:12.760876",
     "exception": false,
     "start_time": "2021-04-21T16:18:12.550406",
     "status": "completed"
    },
    "tags": []
   },
   "outputs": [
    {
     "data": {
      "text/plain": [
       "<sklearn.metrics._plot.roc_curve.RocCurveDisplay at 0x7f87e4676e50>"
      ]
     },
     "execution_count": 40,
     "metadata": {},
     "output_type": "execute_result"
    },
    {
     "data": {
      "image/png": "[encoded data removed]",
      "text/plain": [
       "<Figure size 432x288 with 1 Axes>"
      ]
     },
     "metadata": {
      "needs_background": "light"
     },
     "output_type": "display_data"
    }
   ],
   "source": [
    "plot_roc_curve(gs_log_reg, x_test, y_test)"
   ]
  },
  {
   "cell_type": "code",
   "execution_count": 41,
   "id": "automatic-replication",
   "metadata": {
    "execution": {
     "iopub.execute_input": "2021-04-21T16:18:12.884543Z",
     "iopub.status.busy": "2021-04-21T16:18:12.883437Z",
     "iopub.status.idle": "2021-04-21T16:18:12.890217Z",
     "shell.execute_reply": "2021-04-21T16:18:12.889597Z"
    },
    "papermill": {
     "duration": 0.070323,
     "end_time": "2021-04-21T16:18:12.890354",
     "exception": false,
     "start_time": "2021-04-21T16:18:12.820031",
     "status": "completed"
    },
    "tags": []
   },
   "outputs": [
    {
     "data": {
      "text/plain": [
       "array([[25,  4],\n",
       "       [ 3, 29]])"
      ]
     },
     "execution_count": 41,
     "metadata": {},
     "output_type": "execute_result"
    }
   ],
   "source": [
    "# Confusion matrix\n",
    "confusion_matrix(y_test, y_preds)"
   ]
  },
  {
   "cell_type": "code",
   "execution_count": 42,
   "id": "resident-ridge",
   "metadata": {
    "execution": {
     "iopub.execute_input": "2021-04-21T16:18:13.039306Z",
     "iopub.status.busy": "2021-04-21T16:18:13.033706Z",
     "iopub.status.idle": "2021-04-21T16:18:13.143695Z",
     "shell.execute_reply": "2021-04-21T16:18:13.142635Z"
    },
    "papermill": {
     "duration": 0.195225,
     "end_time": "2021-04-21T16:18:13.143948",
     "exception": false,
     "start_time": "2021-04-21T16:18:12.948723",
     "status": "completed"
    },
    "tags": []
   },
   "outputs": [
    {
     "data": {
      "text/plain": [
       "Text(6.0, 0.5, 'Predicted Value')"
      ]
     },
     "execution_count": 42,
     "metadata": {},
     "output_type": "execute_result"
    },
    {
     "data": {
      "image/png": "[encoded data removed]",
      "text/plain": [
       "<Figure size 216x216 with 1 Axes>"
      ]
     },
     "metadata": {
      "needs_background": "light"
     },
     "output_type": "display_data"
    }
   ],
   "source": [
    "plt.figure(figsize=(3,3))\n",
    "sns.heatmap(confusion_matrix(y_test, y_preds), annot=True, cbar=False)\n",
    "plt.xlabel('True Value')\n",
    "plt.ylabel('Predicted Value')"
   ]
  },
  {
   "cell_type": "code",
   "execution_count": 43,
   "id": "previous-sheriff",
   "metadata": {
    "execution": {
     "iopub.execute_input": "2021-04-21T16:18:13.278383Z",
     "iopub.status.busy": "2021-04-21T16:18:13.275098Z",
     "iopub.status.idle": "2021-04-21T16:18:13.283210Z",
     "shell.execute_reply": "2021-04-21T16:18:13.282471Z"
    },
    "papermill": {
     "duration": 0.073908,
     "end_time": "2021-04-21T16:18:13.283620",
     "exception": false,
     "start_time": "2021-04-21T16:18:13.209712",
     "status": "completed"
    },
    "tags": []
   },
   "outputs": [
    {
     "name": "stdout",
     "output_type": "stream",
     "text": [
      "              precision    recall  f1-score   support\n",
      "\n",
      "           0       0.89      0.86      0.88        29\n",
      "           1       0.88      0.91      0.89        32\n",
      "\n",
      "    accuracy                           0.89        61\n",
      "   macro avg       0.89      0.88      0.88        61\n",
      "weighted avg       0.89      0.89      0.89        61\n",
      "\n"
     ]
    }
   ],
   "source": [
    "print(classification_report(y_test, y_preds))"
   ]
  },
  {
   "cell_type": "markdown",
   "id": "patent-interest",
   "metadata": {
    "papermill": {
     "duration": 0.059711,
     "end_time": "2021-04-21T16:18:13.404264",
     "exception": false,
     "start_time": "2021-04-21T16:18:13.344553",
     "status": "completed"
    },
    "tags": []
   },
   "source": [
    "## Calculate evaluation metrics using cross-validation\n",
    "\n",
    "calculate accuracy, precision, recall and f1-score model using cross-validation and `cross_val_score()`."
   ]
  },
  {
   "cell_type": "code",
   "execution_count": 44,
   "id": "substantial-batman",
   "metadata": {
    "execution": {
     "iopub.execute_input": "2021-04-21T16:18:13.526775Z",
     "iopub.status.busy": "2021-04-21T16:18:13.526199Z",
     "iopub.status.idle": "2021-04-21T16:18:13.530635Z",
     "shell.execute_reply": "2021-04-21T16:18:13.531182Z"
    },
    "papermill": {
     "duration": 0.067753,
     "end_time": "2021-04-21T16:18:13.531352",
     "exception": false,
     "start_time": "2021-04-21T16:18:13.463599",
     "status": "completed"
    },
    "tags": []
   },
   "outputs": [
    {
     "data": {
      "text/plain": [
       "{'C': 0.20433597178569418, 'solver': 'liblinear'}"
      ]
     },
     "execution_count": 44,
     "metadata": {},
     "output_type": "execute_result"
    }
   ],
   "source": [
    "# Check best hyperparameters \n",
    "gs_log_reg.best_params_"
   ]
  },
  {
   "cell_type": "code",
   "execution_count": 45,
   "id": "elder-irrigation",
   "metadata": {
    "execution": {
     "iopub.execute_input": "2021-04-21T16:18:13.654835Z",
     "iopub.status.busy": "2021-04-21T16:18:13.654233Z",
     "iopub.status.idle": "2021-04-21T16:18:13.658992Z",
     "shell.execute_reply": "2021-04-21T16:18:13.658472Z"
    },
    "papermill": {
     "duration": 0.067504,
     "end_time": "2021-04-21T16:18:13.659149",
     "exception": false,
     "start_time": "2021-04-21T16:18:13.591645",
     "status": "completed"
    },
    "tags": []
   },
   "outputs": [],
   "source": [
    "# Create a new classifier with best parameters\n",
    "clf = LogisticRegression(C=0.20433597178569418,\n",
    "                         solver='liblinear')"
   ]
  },
  {
   "cell_type": "code",
   "execution_count": 46,
   "id": "signal-substitute",
   "metadata": {
    "execution": {
     "iopub.execute_input": "2021-04-21T16:18:13.784550Z",
     "iopub.status.busy": "2021-04-21T16:18:13.783524Z",
     "iopub.status.idle": "2021-04-21T16:18:13.821397Z",
     "shell.execute_reply": "2021-04-21T16:18:13.820771Z"
    },
    "papermill": {
     "duration": 0.102844,
     "end_time": "2021-04-21T16:18:13.821532",
     "exception": false,
     "start_time": "2021-04-21T16:18:13.718688",
     "status": "completed"
    },
    "tags": []
   },
   "outputs": [
    {
     "data": {
      "text/plain": [
       "0.8446994535519124"
      ]
     },
     "execution_count": 46,
     "metadata": {},
     "output_type": "execute_result"
    }
   ],
   "source": [
    "# Cross-validated accuracy\n",
    "cv_acc = cross_val_score(clf, x, y, cv=5, scoring='accuracy')\n",
    "\n",
    "cv_acc = np.mean(cv_acc)\n",
    "cv_acc"
   ]
  },
  {
   "cell_type": "code",
   "execution_count": 47,
   "id": "material-brand",
   "metadata": {
    "execution": {
     "iopub.execute_input": "2021-04-21T16:18:13.952226Z",
     "iopub.status.busy": "2021-04-21T16:18:13.948044Z",
     "iopub.status.idle": "2021-04-21T16:18:13.991220Z",
     "shell.execute_reply": "2021-04-21T16:18:13.990600Z"
    },
    "papermill": {
     "duration": 0.109652,
     "end_time": "2021-04-21T16:18:13.991380",
     "exception": false,
     "start_time": "2021-04-21T16:18:13.881728",
     "status": "completed"
    },
    "tags": []
   },
   "outputs": [
    {
     "data": {
      "text/plain": [
       "0.8207936507936507"
      ]
     },
     "execution_count": 47,
     "metadata": {},
     "output_type": "execute_result"
    }
   ],
   "source": [
    "# Cross-validated precision\n",
    "cv_precision = cross_val_score(clf, x, y, cv=5, scoring='precision')\n",
    "\n",
    "cv_precision = np.mean(cv_precision)\n",
    "cv_precision"
   ]
  },
  {
   "cell_type": "code",
   "execution_count": 48,
   "id": "bibliographic-former",
   "metadata": {
    "execution": {
     "iopub.execute_input": "2021-04-21T16:18:14.120487Z",
     "iopub.status.busy": "2021-04-21T16:18:14.119482Z",
     "iopub.status.idle": "2021-04-21T16:18:14.160244Z",
     "shell.execute_reply": "2021-04-21T16:18:14.159700Z"
    },
    "papermill": {
     "duration": 0.107556,
     "end_time": "2021-04-21T16:18:14.160380",
     "exception": false,
     "start_time": "2021-04-21T16:18:14.052824",
     "status": "completed"
    },
    "tags": []
   },
   "outputs": [
    {
     "data": {
      "text/plain": [
       "0.9212121212121213"
      ]
     },
     "execution_count": 48,
     "metadata": {},
     "output_type": "execute_result"
    }
   ],
   "source": [
    "# Cross-validated recall\n",
    "cv_recall = cross_val_score(clf, x, y, cv=5, scoring='recall')\n",
    "\n",
    "cv_recall = np.mean(cv_recall)\n",
    "cv_recall"
   ]
  },
  {
   "cell_type": "code",
   "execution_count": 49,
   "id": "packed-utilization",
   "metadata": {
    "execution": {
     "iopub.execute_input": "2021-04-21T16:18:14.293640Z",
     "iopub.status.busy": "2021-04-21T16:18:14.292636Z",
     "iopub.status.idle": "2021-04-21T16:18:14.329870Z",
     "shell.execute_reply": "2021-04-21T16:18:14.330350Z"
    },
    "papermill": {
     "duration": 0.108652,
     "end_time": "2021-04-21T16:18:14.330545",
     "exception": false,
     "start_time": "2021-04-21T16:18:14.221893",
     "status": "completed"
    },
    "tags": []
   },
   "outputs": [
    {
     "data": {
      "text/plain": [
       "0.8673007976269721"
      ]
     },
     "execution_count": 49,
     "metadata": {},
     "output_type": "execute_result"
    }
   ],
   "source": [
    "# Cross-validated f1\n",
    "cv_f1 = cross_val_score(clf, x, y, cv=5, scoring='f1')\n",
    "\n",
    "cv_f1 = np.mean(cv_f1)\n",
    "cv_f1"
   ]
  },
  {
   "cell_type": "code",
   "execution_count": 50,
   "id": "documentary-beauty",
   "metadata": {
    "execution": {
     "iopub.execute_input": "2021-04-21T16:18:14.485292Z",
     "iopub.status.busy": "2021-04-21T16:18:14.480643Z",
     "iopub.status.idle": "2021-04-21T16:18:14.587201Z",
     "shell.execute_reply": "2021-04-21T16:18:14.586692Z"
    },
    "papermill": {
     "duration": 0.195799,
     "end_time": "2021-04-21T16:18:14.587350",
     "exception": false,
     "start_time": "2021-04-21T16:18:14.391551",
     "status": "completed"
    },
    "tags": []
   },
   "outputs": [
    {
     "data": {
      "text/plain": [
       "<AxesSubplot:title={'center':'Cross-validated classification metrics'}>"
      ]
     },
     "execution_count": 50,
     "metadata": {},
     "output_type": "execute_result"
    },
    {
     "data": {
      "image/png": "[encoded data removed]",
      "text/plain": [
       "<Figure size 432x288 with 1 Axes>"
      ]
     },
     "metadata": {
      "needs_background": "light"
     },
     "output_type": "display_data"
    }
   ],
   "source": [
    "# Visualize cross-validated metrics\n",
    "cv_metrics = pd.DataFrame({'Accuracy': cv_acc,\n",
    "                           'Precision': cv_precision,\n",
    "                           'Recall': cv_recall,\n",
    "                           'F1': cv_f1},\n",
    "                          index=[0])\n",
    "cv_metrics.T.plot.bar(title='Cross-validated classification metrics', legend=False)"
   ]
  },
  {
   "cell_type": "code",
   "execution_count": 51,
   "id": "wrapped-decision",
   "metadata": {
    "execution": {
     "iopub.execute_input": "2021-04-21T16:18:14.718323Z",
     "iopub.status.busy": "2021-04-21T16:18:14.717676Z",
     "iopub.status.idle": "2021-04-21T16:18:14.723315Z",
     "shell.execute_reply": "2021-04-21T16:18:14.723752Z"
    },
    "papermill": {
     "duration": 0.074877,
     "end_time": "2021-04-21T16:18:14.723940",
     "exception": false,
     "start_time": "2021-04-21T16:18:14.649063",
     "status": "completed"
    },
    "tags": []
   },
   "outputs": [
    {
     "data": {
      "text/plain": [
       "LogisticRegression(C=0.20433597178569418, solver='liblinear')"
      ]
     },
     "execution_count": 51,
     "metadata": {},
     "output_type": "execute_result"
    }
   ],
   "source": [
    "# Fit an instance of LogisticRegression\n",
    "clf = LogisticRegression(C=0.20433597178569418,\n",
    "                         solver='liblinear')\n",
    "\n",
    "clf.fit(x_train, y_train)"
   ]
  },
  {
   "cell_type": "code",
   "execution_count": 52,
   "id": "endless-count",
   "metadata": {
    "execution": {
     "iopub.execute_input": "2021-04-21T16:18:14.850342Z",
     "iopub.status.busy": "2021-04-21T16:18:14.849769Z",
     "iopub.status.idle": "2021-04-21T16:18:14.855977Z",
     "shell.execute_reply": "2021-04-21T16:18:14.855460Z"
    },
    "papermill": {
     "duration": 0.070627,
     "end_time": "2021-04-21T16:18:14.856116",
     "exception": false,
     "start_time": "2021-04-21T16:18:14.785489",
     "status": "completed"
    },
    "tags": []
   },
   "outputs": [
    {
     "data": {
      "text/plain": [
       "array([[ 0.00320769, -0.86062049,  0.66001432, -0.01155971, -0.00166496,\n",
       "         0.04017236,  0.31603405,  0.02458922, -0.60470171, -0.56795456,\n",
       "         0.45085392, -0.63733328, -0.67555094]])"
      ]
     },
     "execution_count": 52,
     "metadata": {},
     "output_type": "execute_result"
    }
   ],
   "source": [
    "# Check coef_\n",
    "clf.coef_"
   ]
  },
  {
   "cell_type": "code",
   "execution_count": 53,
   "id": "australian-elder",
   "metadata": {
    "execution": {
     "iopub.execute_input": "2021-04-21T16:18:14.983822Z",
     "iopub.status.busy": "2021-04-21T16:18:14.983203Z",
     "iopub.status.idle": "2021-04-21T16:18:14.988698Z",
     "shell.execute_reply": "2021-04-21T16:18:14.989148Z"
    },
    "papermill": {
     "duration": 0.070901,
     "end_time": "2021-04-21T16:18:14.989311",
     "exception": false,
     "start_time": "2021-04-21T16:18:14.918410",
     "status": "completed"
    },
    "tags": []
   },
   "outputs": [
    {
     "data": {
      "text/plain": [
       "{'age': 0.0032076883508599633,\n",
       " 'sex': -0.8606204883695241,\n",
       " 'cp': 0.660014324982524,\n",
       " 'trtbps': -0.01155970600550047,\n",
       " 'chol': -0.0016649614843449207,\n",
       " 'fbs': 0.040172360271308105,\n",
       " 'restecg': 0.31603405294617176,\n",
       " 'thalachh': 0.02458922341328129,\n",
       " 'exng': -0.604701713592625,\n",
       " 'oldpeak': -0.5679545646616215,\n",
       " 'slp': 0.4508539209693025,\n",
       " 'caa': -0.6373332766360461,\n",
       " 'thall': -0.6755509369619848}"
      ]
     },
     "execution_count": 53,
     "metadata": {},
     "output_type": "execute_result"
    }
   ],
   "source": [
    "# Match coef's of features to columns\n",
    "feature_dict = dict(zip(df.columns, list(clf.coef_[0])))\n",
    "feature_dict"
   ]
  },
  {
   "cell_type": "code",
   "execution_count": 54,
   "id": "israeli-theater",
   "metadata": {
    "execution": {
     "iopub.execute_input": "2021-04-21T16:18:15.117764Z",
     "iopub.status.busy": "2021-04-21T16:18:15.117207Z",
     "iopub.status.idle": "2021-04-21T16:18:15.289039Z",
     "shell.execute_reply": "2021-04-21T16:18:15.289550Z"
    },
    "papermill": {
     "duration": 0.237626,
     "end_time": "2021-04-21T16:18:15.289751",
     "exception": false,
     "start_time": "2021-04-21T16:18:15.052125",
     "status": "completed"
    },
    "tags": []
   },
   "outputs": [
    {
     "data": {
      "text/plain": [
       "<AxesSubplot:title={'center':'Feature Importance'}>"
      ]
     },
     "execution_count": 54,
     "metadata": {},
     "output_type": "execute_result"
    },
    {
     "data": {
      "image/png": "[encoded data removed]",
      "text/plain": [
       "<Figure size 432x288 with 1 Axes>"
      ]
     },
     "metadata": {
      "needs_background": "light"
     },
     "output_type": "display_data"
    }
   ],
   "source": [
    "# Visualize feature importance\n",
    "feature_df = pd.DataFrame(feature_dict, index=[0])\n",
    "feature_df.T.plot.bar(title='Feature Importance', legend=False)"
   ]
  },
  {
   "cell_type": "markdown",
   "id": "specialized-equipment",
   "metadata": {
    "papermill": {
     "duration": 0.063896,
     "end_time": "2021-04-21T16:18:15.417552",
     "exception": false,
     "start_time": "2021-04-21T16:18:15.353656",
     "status": "completed"
    },
    "tags": []
   },
   "source": [
    "# Prediction"
   ]
  },
  {
   "cell_type": "code",
   "execution_count": 55,
   "id": "bright-scroll",
   "metadata": {
    "execution": {
     "iopub.execute_input": "2021-04-21T16:18:15.561514Z",
     "iopub.status.busy": "2021-04-21T16:18:15.560961Z",
     "iopub.status.idle": "2021-04-21T16:18:15.566509Z",
     "shell.execute_reply": "2021-04-21T16:18:15.566967Z"
    },
    "papermill": {
     "duration": 0.073847,
     "end_time": "2021-04-21T16:18:15.567162",
     "exception": false,
     "start_time": "2021-04-21T16:18:15.493315",
     "status": "completed"
    },
    "tags": []
   },
   "outputs": [],
   "source": [
    "x_raw = df.drop(columns=['output'])\n",
    "y_raw = df['output']"
   ]
  },
  {
   "cell_type": "code",
   "execution_count": 56,
   "id": "opposed-wales",
   "metadata": {
    "execution": {
     "iopub.execute_input": "2021-04-21T16:18:15.700068Z",
     "iopub.status.busy": "2021-04-21T16:18:15.699244Z",
     "iopub.status.idle": "2021-04-21T16:18:15.714087Z",
     "shell.execute_reply": "2021-04-21T16:18:15.714525Z"
    },
    "papermill": {
     "duration": 0.082629,
     "end_time": "2021-04-21T16:18:15.714713",
     "exception": false,
     "start_time": "2021-04-21T16:18:15.632084",
     "status": "completed"
    },
    "tags": []
   },
   "outputs": [],
   "source": [
    "# Create Data Empty Dataframe\n",
    "input_ = {'age':0, 'sex':0, 'cp':0, 'trtbps':0, 'chol':0, 'fbs':0, 'restecg':0, 'thalachh':0, 'exng':0, 'oldpeak':0, \n",
    "     'slp':0, 'caa':0, 'thall':0}\n",
    "output = {'Logistic Regression': 0, 'K Neighbors Classifier': 0, 'Random Forest Classifier': 0}\n",
    "\n",
    "# Create Data Empty Dataframe\n",
    "final = {'age':0, 'sex':0, 'cp':0, 'trtbps':0, 'chol':0, 'fbs':0, 'restecg':0, 'thalachh':0, 'exng':0, 'oldpeak':0, \n",
    "     'slp':0, 'caa':0, 'thall':0, 'Logistic Regression': 0, 'K Neighbors Classifier': 0, 'Random Forest Classifier': 0}\n",
    "data_final = pd.DataFrame(columns=['age', 'sex', 'cp', 'trtbps', 'chol', 'fbs', 'restecg', 'thalachh', 'exng', 'oldpeak', \n",
    "                                   'slp', 'caa', 'thall', 'Logistic Regression', 'K Neighbors Classifier', \n",
    "                                   'Random Forest Classifier'])\n",
    "\n",
    "\n",
    "def input_data():\n",
    "    # Make temporary dataframe\n",
    "    temp = pd.DataFrame(columns=['age', 'sex', 'cp', 'trtbps', 'chol', 'fbs', 'restecg', 'thalachh', 'exng', \n",
    "                                   'oldpeak', 'slp', 'caa', 'thall'])\n",
    "    \n",
    "    # Make some intruction\n",
    "    intruction = {\"age\": \"Age: age in years\",\n",
    "                  \"sex\": \"Sex: sex (1 = male; 0 = female)\",\n",
    "                  \"cp\": \"\"\"Chest Pain: chest pain type\n",
    "-- Value 0: typical angina\n",
    "-- Value 1: atypical angina\n",
    "-- Value 2: non-anginal pain\n",
    "-- Value 3: asymptomatic\"\"\",\n",
    "                  \"trtbps\": \"Trest_bps: resting blood pressure (in mm Hg on admission to the hospital)\",\n",
    "                  \"chol\": \"Cholestoral: serum cholestoral in mg/dl\",\n",
    "                  \"fbs\": \"Fasting Blood Sugar: (fasting blood sugar > 120 mg/dl) (1 = true; 0 = false)\",\n",
    "                  \"restecg\": '''Resting Electrocardiographic Results:\n",
    "-- Value 0: normal\n",
    "-- Value 1: having ST-T wave abnormality (T wave inversions and/or ST elevation or depression of > 0.05 mV)\n",
    "-- Value 2: showing probable or definite left ventricular hypertrophy by Estes' criteria''',\n",
    "                  \"thalachh\": \"Thalach: maximum heart rate achieved\",\n",
    "                  \"exng\": \"Ex_Ang: exercise induced angina (1 = yes; 0 = no)\",\n",
    "                  \"oldpeak\": \"Old_Peak: ST depression induced by exercise relative to rest\",\n",
    "                  \"slp\": \"Slope: the slope of the peak exercise ST segment\",\n",
    "                  \"caa\": \"CA: number of major vessels (0-3) colored by flourosopy\",\n",
    "                  \"thall\": \"Thal: 3 = normal; 6 = fixed defect; 7 = reversable defect\",\n",
    "                  \"output\": \"\"\"Output: diagnosis of heart disease (angiographic disease status)\n",
    "-- Value 0: < 50% diameter narrowing\n",
    "-- Value 1: > 50% diameter narrowing\"\"\"}\n",
    "    \n",
    "    # Input your data\n",
    "    for name, val in input_.items():\n",
    "        print(intruction[name])\n",
    "        input_[name] = input(f'{name} : ')\n",
    "    \n",
    "    # Input all data into dataframe\n",
    "    temp = temp.append(input_, ignore_index=True)\n",
    "    \n",
    "    # Conver all value into float\n",
    "    temp = temp.astype(np.float64)\n",
    "    \n",
    "    # Make Model \n",
    "    models = {'Logistic Regression': LogisticRegression(),\n",
    "              'K Neighbors Classifier': KNeighborsClassifier(),\n",
    "              'Random Forest Classifier': RandomForestClassifier()}\n",
    "    \n",
    "    # Set random seed\n",
    "    np.random.seed(42)\n",
    "    # Model fit and pridict optput\n",
    "    for name, model in models.items():\n",
    "        model.fit(x_raw, y_raw)  # fit the model\n",
    "        \n",
    "        # predict value\n",
    "        y_preds = model.predict(temp)\n",
    "#         if name == 'K Neighbors Classifier':\n",
    "#             y_preds = model.predict_proba(temp)\n",
    "#         else:\n",
    "#             y_preds = model.predict_log_proba(temp)\n",
    "            \n",
    "        output[name] = y_preds\n",
    "    \n",
    "    # save data in final\n",
    "    for name, val in input_.items():\n",
    "        final[name] = input_[name]\n",
    "    for name, val in output.items():\n",
    "        final[name] = output[name]\n",
    "    "
   ]
  },
  {
   "cell_type": "code",
   "execution_count": 57,
   "id": "knowing-testament",
   "metadata": {
    "execution": {
     "iopub.execute_input": "2021-04-21T16:18:15.848140Z",
     "iopub.status.busy": "2021-04-21T16:18:15.847200Z",
     "iopub.status.idle": "2021-04-21T16:18:15.851858Z",
     "shell.execute_reply": "2021-04-21T16:18:15.851343Z"
    },
    "papermill": {
     "duration": 0.072742,
     "end_time": "2021-04-21T16:18:15.851999",
     "exception": false,
     "start_time": "2021-04-21T16:18:15.779257",
     "status": "completed"
    },
    "tags": []
   },
   "outputs": [],
   "source": [
    "# input_data()"
   ]
  },
  {
   "cell_type": "code",
   "execution_count": 58,
   "id": "measured-reasoning",
   "metadata": {
    "execution": {
     "iopub.execute_input": "2021-04-21T16:18:15.983934Z",
     "iopub.status.busy": "2021-04-21T16:18:15.983241Z",
     "iopub.status.idle": "2021-04-21T16:18:15.985720Z",
     "shell.execute_reply": "2021-04-21T16:18:15.986171Z"
    },
    "papermill": {
     "duration": 0.0707,
     "end_time": "2021-04-21T16:18:15.986343",
     "exception": false,
     "start_time": "2021-04-21T16:18:15.915643",
     "status": "completed"
    },
    "tags": []
   },
   "outputs": [],
   "source": [
    "# data_final = data_final.append(final, ignore_index=True)\n",
    "\n",
    "# data_final"
   ]
  }
 ],
 "metadata": {
  "kernelspec": {
   "display_name": "Python 3",
   "language": "python",
   "name": "python3"
  },
  "language_info": {
   "codemirror_mode": {
    "name": "ipython",
    "version": 3
   },
   "file_extension": ".py",
   "mimetype": "text/x-python",
   "name": "python",
   "nbconvert_exporter": "python",
   "pygments_lexer": "ipython3",
   "version": "3.7.9"
  },
  "papermill": {
   "default_parameters": {},
   "duration": 90.658348,
   "end_time": "2021-04-21T16:18:16.761067",
   "environment_variables": {},
   "exception": null,
   "input_path": "__notebook__.ipynb",
   "output_path": "__notebook__.ipynb",
   "parameters": {},
   "start_time": "2021-04-21T16:16:46.102719",
   "version": "2.3.2"
  }
 },
 "nbformat": 4,
 "nbformat_minor": 5
}
